{
 "cells": [
  {
   "cell_type": "markdown",
   "metadata": {},
   "source": [
    "# Project: Investigate a Dataset on 'No Show' Medical appointments\n",
    "\n",
    "## Table of Contents\n",
    "<ul>\n",
    "<li><a href=\"#intro\">Introduction</a></li>\n",
    "<li><a href=\"#wrangling\">Data Wrangling</a></li>\n",
    "<li><a href=\"#eda\">Exploratory Data Analysis</a></li>\n",
    "<li><a href=\"#conclusions\">Conclusions</a></li>\n",
    "<li><a href=\"#limit\">Limitations</a></li>\n",
    "<li><a href=\"#refr\">References</a></li>\n",
    "</ul>"
   ]
  },
  {
   "cell_type": "markdown",
   "metadata": {},
   "source": [
    "<a id='intro'></a>\n",
    "## Introduction\n",
    "\n",
    "> This dataset collects information from over a 100k medical appointments in Brazil and I will be investigating patient behavior related to whether they will show up for their appointment."
   ]
  },
  {
   "cell_type": "markdown",
   "metadata": {},
   "source": [
    "### Variables dictionary\n",
    "\n",
    "> The dataset has 14 associated variables. The most important one being the whether the patient does not show up to the appointment.\n",
    "\n",
    "> **PatientId**: Identification number of a patient\n",
    "\n",
    "> **AppointmentID**: Identification number for each appointment\n",
    "\n",
    "> **Gender**: Male or Female\n",
    "\n",
    "> **ScheduledDay**: The date someone called or registered the appointment,this is before appointment\n",
    "\n",
    "> **AppointmentDay**: The date of the actual appointment\n",
    "\n",
    "> **Age**: How old is the patient.\n",
    "\n",
    "> **Neighbourhood**: Where the appointment takes place.\n",
    "\n",
    "> **Scholarship**:True of False\n",
    " > * a social welfare program of the Brazilian that provides financial aid to poor Brazilian families. Families have to ensure that children attend school and get vaccinated. If they exceed the total of permitted school absences, they are dropped from the program and their funds were suspended\n",
    "   \n",
    "> **Hipertension**: True or False\n",
    "    > * whether the patient is hypertensive or not\n",
    "    \n",
    "> **Diabetes**: True or False\n",
    "    > * whether the patient is diabetic or not\n",
    "    \n",
    "> **Alcoholism**: True or False\n",
    "    > * whether the patient is an alcoholic or not\n",
    "    \n",
    "> **Handcap**: True or False\n",
    "    > * whether the patient is handicap or not\n",
    "    \n",
    "> **SMS_received**: True or False\n",
    "    > * 1 or more messages sent to the patient.\n",
    "    \n",
    "> **No-show**: True or False.\n",
    "    > * It says ‘No’ if the patient showed up to their appointment, and ‘Yes’ if they did not show up."
   ]
  },
  {
   "cell_type": "markdown",
   "metadata": {},
   "source": [
    "### Questions for analysis\n",
    "\n",
    "> * How many appointments were no shows?\n",
    "> * Is one gender more likely to show up for their appointment?\n",
    "> * Does age affect showing up to appointments?\n",
    "> * Did patients on scholarship show up for their appointments more than those not on scholarship?\n",
    "> * Did receiving sms messages have an effect on showing up to appointments?\n",
    "> * On what day of the week were most appointments scheduled?\n",
    "> * Which day of the week had the most appointments and which day had the most show up?\n",
    "> * Does the amount of wait time between schedule day and appointment day affect showing up to appointments?\n",
    "> * Do patients who have chronic illnesses (diabetes, hypertension , alcoholism) and handicap show up to their appointments more?"
   ]
  },
  {
   "cell_type": "code",
   "execution_count": 1,
   "metadata": {},
   "outputs": [],
   "source": [
    "#importing required libraries\n",
    "\n",
    "import pandas as pd\n",
    "import numpy as np\n",
    "import seaborn as sns\n",
    "import matplotlib.pyplot as plt\n",
    "%matplotlib inline"
   ]
  },
  {
   "cell_type": "markdown",
   "metadata": {},
   "source": [
    "<a id='wrangling'></a>\n",
    "## Data Wrangling\n",
    "\n",
    "> In this section of the report, I will load the data, check for cleanliness, and then trim and clean the dataset for analysis. \n",
    "\n",
    "### General Properties"
   ]
  },
  {
   "cell_type": "code",
   "execution_count": 2,
   "metadata": {
    "scrolled": true
   },
   "outputs": [
    {
     "data": {
      "text/html": [
       "<div>\n",
       "<style scoped>\n",
       "    .dataframe tbody tr th:only-of-type {\n",
       "        vertical-align: middle;\n",
       "    }\n",
       "\n",
       "    .dataframe tbody tr th {\n",
       "        vertical-align: top;\n",
       "    }\n",
       "\n",
       "    .dataframe thead th {\n",
       "        text-align: right;\n",
       "    }\n",
       "</style>\n",
       "<table border=\"1\" class=\"dataframe\">\n",
       "  <thead>\n",
       "    <tr style=\"text-align: right;\">\n",
       "      <th></th>\n",
       "      <th>PatientId</th>\n",
       "      <th>AppointmentID</th>\n",
       "      <th>Gender</th>\n",
       "      <th>ScheduledDay</th>\n",
       "      <th>AppointmentDay</th>\n",
       "      <th>Age</th>\n",
       "      <th>Neighbourhood</th>\n",
       "      <th>Scholarship</th>\n",
       "      <th>Hipertension</th>\n",
       "      <th>Diabetes</th>\n",
       "      <th>Alcoholism</th>\n",
       "      <th>Handcap</th>\n",
       "      <th>SMS_received</th>\n",
       "      <th>No-show</th>\n",
       "    </tr>\n",
       "  </thead>\n",
       "  <tbody>\n",
       "    <tr>\n",
       "      <th>0</th>\n",
       "      <td>2.987250e+13</td>\n",
       "      <td>5642903</td>\n",
       "      <td>F</td>\n",
       "      <td>2016-04-29T18:38:08Z</td>\n",
       "      <td>2016-04-29T00:00:00Z</td>\n",
       "      <td>62</td>\n",
       "      <td>JARDIM DA PENHA</td>\n",
       "      <td>0</td>\n",
       "      <td>1</td>\n",
       "      <td>0</td>\n",
       "      <td>0</td>\n",
       "      <td>0</td>\n",
       "      <td>0</td>\n",
       "      <td>No</td>\n",
       "    </tr>\n",
       "    <tr>\n",
       "      <th>1</th>\n",
       "      <td>5.589978e+14</td>\n",
       "      <td>5642503</td>\n",
       "      <td>M</td>\n",
       "      <td>2016-04-29T16:08:27Z</td>\n",
       "      <td>2016-04-29T00:00:00Z</td>\n",
       "      <td>56</td>\n",
       "      <td>JARDIM DA PENHA</td>\n",
       "      <td>0</td>\n",
       "      <td>0</td>\n",
       "      <td>0</td>\n",
       "      <td>0</td>\n",
       "      <td>0</td>\n",
       "      <td>0</td>\n",
       "      <td>No</td>\n",
       "    </tr>\n",
       "    <tr>\n",
       "      <th>2</th>\n",
       "      <td>4.262962e+12</td>\n",
       "      <td>5642549</td>\n",
       "      <td>F</td>\n",
       "      <td>2016-04-29T16:19:04Z</td>\n",
       "      <td>2016-04-29T00:00:00Z</td>\n",
       "      <td>62</td>\n",
       "      <td>MATA DA PRAIA</td>\n",
       "      <td>0</td>\n",
       "      <td>0</td>\n",
       "      <td>0</td>\n",
       "      <td>0</td>\n",
       "      <td>0</td>\n",
       "      <td>0</td>\n",
       "      <td>No</td>\n",
       "    </tr>\n",
       "  </tbody>\n",
       "</table>\n",
       "</div>"
      ],
      "text/plain": [
       "      PatientId  AppointmentID Gender          ScheduledDay  \\\n",
       "0  2.987250e+13        5642903      F  2016-04-29T18:38:08Z   \n",
       "1  5.589978e+14        5642503      M  2016-04-29T16:08:27Z   \n",
       "2  4.262962e+12        5642549      F  2016-04-29T16:19:04Z   \n",
       "\n",
       "         AppointmentDay  Age    Neighbourhood  Scholarship  Hipertension  \\\n",
       "0  2016-04-29T00:00:00Z   62  JARDIM DA PENHA            0             1   \n",
       "1  2016-04-29T00:00:00Z   56  JARDIM DA PENHA            0             0   \n",
       "2  2016-04-29T00:00:00Z   62    MATA DA PRAIA            0             0   \n",
       "\n",
       "   Diabetes  Alcoholism  Handcap  SMS_received No-show  \n",
       "0         0           0        0             0      No  \n",
       "1         0           0        0             0      No  \n",
       "2         0           0        0             0      No  "
      ]
     },
     "execution_count": 2,
     "metadata": {},
     "output_type": "execute_result"
    }
   ],
   "source": [
    "# Loading the data \n",
    "df = pd.read_csv('noshowappointments-kagglev2-may-2016.csv')\n",
    "df.head(3)"
   ]
  },
  {
   "cell_type": "code",
   "execution_count": 3,
   "metadata": {},
   "outputs": [
    {
     "data": {
      "text/plain": [
       "(110527, 14)"
      ]
     },
     "execution_count": 3,
     "metadata": {},
     "output_type": "execute_result"
    }
   ],
   "source": [
    "#check the size of the dataset\n",
    "df.shape"
   ]
  },
  {
   "cell_type": "code",
   "execution_count": 4,
   "metadata": {},
   "outputs": [
    {
     "name": "stdout",
     "output_type": "stream",
     "text": [
      "<class 'pandas.core.frame.DataFrame'>\n",
      "RangeIndex: 110527 entries, 0 to 110526\n",
      "Data columns (total 14 columns):\n",
      " #   Column          Non-Null Count   Dtype  \n",
      "---  ------          --------------   -----  \n",
      " 0   PatientId       110527 non-null  float64\n",
      " 1   AppointmentID   110527 non-null  int64  \n",
      " 2   Gender          110527 non-null  object \n",
      " 3   ScheduledDay    110527 non-null  object \n",
      " 4   AppointmentDay  110527 non-null  object \n",
      " 5   Age             110527 non-null  int64  \n",
      " 6   Neighbourhood   110527 non-null  object \n",
      " 7   Scholarship     110527 non-null  int64  \n",
      " 8   Hipertension    110527 non-null  int64  \n",
      " 9   Diabetes        110527 non-null  int64  \n",
      " 10  Alcoholism      110527 non-null  int64  \n",
      " 11  Handcap         110527 non-null  int64  \n",
      " 12  SMS_received    110527 non-null  int64  \n",
      " 13  No-show         110527 non-null  object \n",
      "dtypes: float64(1), int64(8), object(5)\n",
      "memory usage: 11.8+ MB\n"
     ]
    }
   ],
   "source": [
    "#check datatypes, column name and null values\n",
    "df.info()"
   ]
  },
  {
   "cell_type": "code",
   "execution_count": 5,
   "metadata": {},
   "outputs": [
    {
     "data": {
      "text/plain": [
       "0"
      ]
     },
     "execution_count": 5,
     "metadata": {},
     "output_type": "execute_result"
    }
   ],
   "source": [
    "#check for duplicate values\n",
    "sum(df.duplicated())"
   ]
  },
  {
   "cell_type": "code",
   "execution_count": 6,
   "metadata": {},
   "outputs": [
    {
     "data": {
      "text/plain": [
       "PatientId          62299\n",
       "AppointmentID     110527\n",
       "Gender                 2\n",
       "ScheduledDay      103549\n",
       "AppointmentDay        27\n",
       "Age                  104\n",
       "Neighbourhood         81\n",
       "Scholarship            2\n",
       "Hipertension           2\n",
       "Diabetes               2\n",
       "Alcoholism             2\n",
       "Handcap                5\n",
       "SMS_received           2\n",
       "No-show                2\n",
       "dtype: int64"
      ]
     },
     "execution_count": 6,
     "metadata": {},
     "output_type": "execute_result"
    }
   ],
   "source": [
    "#check for unique values in dataset\n",
    "df.nunique()"
   ]
  },
  {
   "cell_type": "markdown",
   "metadata": {},
   "source": [
    "**The number of unique patientID is less than the total number of patientID which means many patients have booked more than one appointment.**\n",
    "\n",
    "**There are 5 values in the Handcap column, but they should be only 0 & 1**"
   ]
  },
  {
   "cell_type": "code",
   "execution_count": 7,
   "metadata": {},
   "outputs": [
    {
     "data": {
      "text/html": [
       "<div>\n",
       "<style scoped>\n",
       "    .dataframe tbody tr th:only-of-type {\n",
       "        vertical-align: middle;\n",
       "    }\n",
       "\n",
       "    .dataframe tbody tr th {\n",
       "        vertical-align: top;\n",
       "    }\n",
       "\n",
       "    .dataframe thead th {\n",
       "        text-align: right;\n",
       "    }\n",
       "</style>\n",
       "<table border=\"1\" class=\"dataframe\">\n",
       "  <thead>\n",
       "    <tr style=\"text-align: right;\">\n",
       "      <th></th>\n",
       "      <th>PatientId</th>\n",
       "      <th>AppointmentID</th>\n",
       "      <th>Age</th>\n",
       "      <th>Scholarship</th>\n",
       "      <th>Hipertension</th>\n",
       "      <th>Diabetes</th>\n",
       "      <th>Alcoholism</th>\n",
       "      <th>Handcap</th>\n",
       "      <th>SMS_received</th>\n",
       "    </tr>\n",
       "  </thead>\n",
       "  <tbody>\n",
       "    <tr>\n",
       "      <th>count</th>\n",
       "      <td>1.105270e+05</td>\n",
       "      <td>1.105270e+05</td>\n",
       "      <td>110527.000000</td>\n",
       "      <td>110527.000000</td>\n",
       "      <td>110527.000000</td>\n",
       "      <td>110527.000000</td>\n",
       "      <td>110527.000000</td>\n",
       "      <td>110527.000000</td>\n",
       "      <td>110527.000000</td>\n",
       "    </tr>\n",
       "    <tr>\n",
       "      <th>mean</th>\n",
       "      <td>1.474963e+14</td>\n",
       "      <td>5.675305e+06</td>\n",
       "      <td>37.088874</td>\n",
       "      <td>0.098266</td>\n",
       "      <td>0.197246</td>\n",
       "      <td>0.071865</td>\n",
       "      <td>0.030400</td>\n",
       "      <td>0.022248</td>\n",
       "      <td>0.321026</td>\n",
       "    </tr>\n",
       "    <tr>\n",
       "      <th>std</th>\n",
       "      <td>2.560949e+14</td>\n",
       "      <td>7.129575e+04</td>\n",
       "      <td>23.110205</td>\n",
       "      <td>0.297675</td>\n",
       "      <td>0.397921</td>\n",
       "      <td>0.258265</td>\n",
       "      <td>0.171686</td>\n",
       "      <td>0.161543</td>\n",
       "      <td>0.466873</td>\n",
       "    </tr>\n",
       "    <tr>\n",
       "      <th>min</th>\n",
       "      <td>3.921784e+04</td>\n",
       "      <td>5.030230e+06</td>\n",
       "      <td>-1.000000</td>\n",
       "      <td>0.000000</td>\n",
       "      <td>0.000000</td>\n",
       "      <td>0.000000</td>\n",
       "      <td>0.000000</td>\n",
       "      <td>0.000000</td>\n",
       "      <td>0.000000</td>\n",
       "    </tr>\n",
       "    <tr>\n",
       "      <th>25%</th>\n",
       "      <td>4.172614e+12</td>\n",
       "      <td>5.640286e+06</td>\n",
       "      <td>18.000000</td>\n",
       "      <td>0.000000</td>\n",
       "      <td>0.000000</td>\n",
       "      <td>0.000000</td>\n",
       "      <td>0.000000</td>\n",
       "      <td>0.000000</td>\n",
       "      <td>0.000000</td>\n",
       "    </tr>\n",
       "    <tr>\n",
       "      <th>50%</th>\n",
       "      <td>3.173184e+13</td>\n",
       "      <td>5.680573e+06</td>\n",
       "      <td>37.000000</td>\n",
       "      <td>0.000000</td>\n",
       "      <td>0.000000</td>\n",
       "      <td>0.000000</td>\n",
       "      <td>0.000000</td>\n",
       "      <td>0.000000</td>\n",
       "      <td>0.000000</td>\n",
       "    </tr>\n",
       "    <tr>\n",
       "      <th>75%</th>\n",
       "      <td>9.439172e+13</td>\n",
       "      <td>5.725524e+06</td>\n",
       "      <td>55.000000</td>\n",
       "      <td>0.000000</td>\n",
       "      <td>0.000000</td>\n",
       "      <td>0.000000</td>\n",
       "      <td>0.000000</td>\n",
       "      <td>0.000000</td>\n",
       "      <td>1.000000</td>\n",
       "    </tr>\n",
       "    <tr>\n",
       "      <th>max</th>\n",
       "      <td>9.999816e+14</td>\n",
       "      <td>5.790484e+06</td>\n",
       "      <td>115.000000</td>\n",
       "      <td>1.000000</td>\n",
       "      <td>1.000000</td>\n",
       "      <td>1.000000</td>\n",
       "      <td>1.000000</td>\n",
       "      <td>4.000000</td>\n",
       "      <td>1.000000</td>\n",
       "    </tr>\n",
       "  </tbody>\n",
       "</table>\n",
       "</div>"
      ],
      "text/plain": [
       "          PatientId  AppointmentID            Age    Scholarship  \\\n",
       "count  1.105270e+05   1.105270e+05  110527.000000  110527.000000   \n",
       "mean   1.474963e+14   5.675305e+06      37.088874       0.098266   \n",
       "std    2.560949e+14   7.129575e+04      23.110205       0.297675   \n",
       "min    3.921784e+04   5.030230e+06      -1.000000       0.000000   \n",
       "25%    4.172614e+12   5.640286e+06      18.000000       0.000000   \n",
       "50%    3.173184e+13   5.680573e+06      37.000000       0.000000   \n",
       "75%    9.439172e+13   5.725524e+06      55.000000       0.000000   \n",
       "max    9.999816e+14   5.790484e+06     115.000000       1.000000   \n",
       "\n",
       "        Hipertension       Diabetes     Alcoholism        Handcap  \\\n",
       "count  110527.000000  110527.000000  110527.000000  110527.000000   \n",
       "mean        0.197246       0.071865       0.030400       0.022248   \n",
       "std         0.397921       0.258265       0.171686       0.161543   \n",
       "min         0.000000       0.000000       0.000000       0.000000   \n",
       "25%         0.000000       0.000000       0.000000       0.000000   \n",
       "50%         0.000000       0.000000       0.000000       0.000000   \n",
       "75%         0.000000       0.000000       0.000000       0.000000   \n",
       "max         1.000000       1.000000       1.000000       4.000000   \n",
       "\n",
       "        SMS_received  \n",
       "count  110527.000000  \n",
       "mean        0.321026  \n",
       "std         0.466873  \n",
       "min         0.000000  \n",
       "25%         0.000000  \n",
       "50%         0.000000  \n",
       "75%         1.000000  \n",
       "max         1.000000  "
      ]
     },
     "execution_count": 7,
     "metadata": {},
     "output_type": "execute_result"
    }
   ],
   "source": [
    "# descriptive statistics of the numerical columns\n",
    "df.describe()"
   ]
  },
  {
   "cell_type": "markdown",
   "metadata": {},
   "source": [
    "**Average age of the patients is 37 years old**\n",
    "\n",
    "**The oldest patient is 115 years old.**\n",
    "\n",
    "**The youngest age seems to be a negative value of -1**"
   ]
  },
  {
   "cell_type": "markdown",
   "metadata": {},
   "source": [
    "#### The dataset has 110527 records and 14 features with no duplicates or null values\n",
    "* I will perform the following operations to clean the data:\n",
    "\n",
    "    > * Drop records where Age is less than 0\n",
    "    > * Rename columns with spelling errors or inconsistent formatting- 'Hipertension, Handcap'\n",
    "    > * Rename all columns to lower case and strip of empty strings \n",
    "    > * Replace values 2, 3, 4 in the 'Handcap' column with 1\n",
    "    > * Datatypes to convert\n",
    "        * Scheduled day to datetime\n",
    "        * appointment day to datetime\n",
    "      > * Columns to create\n",
    "        * sched weekday - the day of the week the appointment was scheduled\n",
    "        * appt weekday - the day the appointment was supposed to hold\n",
    "        * waittime: the amount of time between sched day and appt day\n",
    "    > * Drop rows where the waittime is less than 0\n",
    "    > * Features to drop - these are not relevant to my analysis\n",
    "        * drop PatientID\n",
    "        * drop Neighbourhood\n",
    "        * drop scheduled day\n",
    "        * drop appointment day\n"
   ]
  },
  {
   "cell_type": "markdown",
   "metadata": {},
   "source": [
    "### Data Cleaning \n",
    "\n",
    "I will be cleaning the data for better readablity and analysis"
   ]
  },
  {
   "cell_type": "code",
   "execution_count": 8,
   "metadata": {},
   "outputs": [],
   "source": [
    "#drop records where age < 0\n",
    "age_drop = df[df['Age'] == -1].index\n",
    "df = df.drop(age_drop)"
   ]
  },
  {
   "cell_type": "code",
   "execution_count": 9,
   "metadata": {},
   "outputs": [
    {
     "data": {
      "text/plain": [
       "count    110526.000000\n",
       "mean         37.089219\n",
       "std          23.110026\n",
       "min           0.000000\n",
       "25%          18.000000\n",
       "50%          37.000000\n",
       "75%          55.000000\n",
       "max         115.000000\n",
       "Name: Age, dtype: float64"
      ]
     },
     "execution_count": 9,
     "metadata": {},
     "output_type": "execute_result"
    }
   ],
   "source": [
    "#confirm changes were made\n",
    "df.Age.describe()"
   ]
  },
  {
   "cell_type": "code",
   "execution_count": 10,
   "metadata": {},
   "outputs": [],
   "source": [
    "#Rename columns with spelling errors or inconsistent formatting\n",
    "columns_to_update = df.columns[:8].tolist() +  ['hypertension'] + df.columns[9:11].tolist() +  ['handicap'] + df.columns[12:13].tolist() +  ['no_show']\n",
    "df.columns = columns_to_update"
   ]
  },
  {
   "cell_type": "code",
   "execution_count": 11,
   "metadata": {},
   "outputs": [],
   "source": [
    "#Rename all columns to lower case and strip of empty strings for better readability\n",
    "df.rename(columns = lambda x : x.strip().lower(), inplace = True)"
   ]
  },
  {
   "cell_type": "code",
   "execution_count": 12,
   "metadata": {},
   "outputs": [
    {
     "data": {
      "text/html": [
       "<div>\n",
       "<style scoped>\n",
       "    .dataframe tbody tr th:only-of-type {\n",
       "        vertical-align: middle;\n",
       "    }\n",
       "\n",
       "    .dataframe tbody tr th {\n",
       "        vertical-align: top;\n",
       "    }\n",
       "\n",
       "    .dataframe thead th {\n",
       "        text-align: right;\n",
       "    }\n",
       "</style>\n",
       "<table border=\"1\" class=\"dataframe\">\n",
       "  <thead>\n",
       "    <tr style=\"text-align: right;\">\n",
       "      <th></th>\n",
       "      <th>patientid</th>\n",
       "      <th>appointmentid</th>\n",
       "      <th>gender</th>\n",
       "      <th>scheduledday</th>\n",
       "      <th>appointmentday</th>\n",
       "      <th>age</th>\n",
       "      <th>neighbourhood</th>\n",
       "      <th>scholarship</th>\n",
       "      <th>hypertension</th>\n",
       "      <th>diabetes</th>\n",
       "      <th>alcoholism</th>\n",
       "      <th>handicap</th>\n",
       "      <th>sms_received</th>\n",
       "      <th>no_show</th>\n",
       "    </tr>\n",
       "  </thead>\n",
       "  <tbody>\n",
       "  </tbody>\n",
       "</table>\n",
       "</div>"
      ],
      "text/plain": [
       "Empty DataFrame\n",
       "Columns: [patientid, appointmentid, gender, scheduledday, appointmentday, age, neighbourhood, scholarship, hypertension, diabetes, alcoholism, handicap, sms_received, no_show]\n",
       "Index: []"
      ]
     },
     "execution_count": 12,
     "metadata": {},
     "output_type": "execute_result"
    }
   ],
   "source": [
    "#check that changes were made\n",
    "df.head(0)"
   ]
  },
  {
   "cell_type": "code",
   "execution_count": 13,
   "metadata": {},
   "outputs": [
    {
     "data": {
      "text/plain": [
       "0    108285\n",
       "1      2241\n",
       "Name: handicap, dtype: int64"
      ]
     },
     "execution_count": 13,
     "metadata": {},
     "output_type": "execute_result"
    }
   ],
   "source": [
    "#replacing inconsistent values in the handicap column\n",
    "df.handicap.replace(to_replace = [2,3,4], value = 1, inplace = True)\n",
    "df.handicap.value_counts()"
   ]
  },
  {
   "cell_type": "code",
   "execution_count": 14,
   "metadata": {},
   "outputs": [],
   "source": [
    "#converting scheduled day to datetime\n",
    "df['scheduledday'] = pd.to_datetime(df['scheduledday'])"
   ]
  },
  {
   "cell_type": "code",
   "execution_count": 15,
   "metadata": {},
   "outputs": [],
   "source": [
    "#converting appointment day to datetime\n",
    "df['appointmentday'] = pd.to_datetime(df['appointmentday'])"
   ]
  },
  {
   "cell_type": "code",
   "execution_count": 16,
   "metadata": {},
   "outputs": [],
   "source": [
    " #creating new sched_weekday column: the day of the week the appointment was scheduled \n",
    "df['sched_weekday'] = df['scheduledday'].dt.day_name()"
   ]
  },
  {
   "cell_type": "code",
   "execution_count": 17,
   "metadata": {},
   "outputs": [],
   "source": [
    "#creating new appt_weekday column: the day the appointment was supposed to hold\n",
    "df['appt_weekday'] = df['appointmentday'].dt.day_name() #parsing weekday from appt "
   ]
  },
  {
   "cell_type": "code",
   "execution_count": 18,
   "metadata": {},
   "outputs": [],
   "source": [
    "#removing time fromscheduled day\n",
    "df['scheduledday'] = df['scheduledday'].dt.date "
   ]
  },
  {
   "cell_type": "code",
   "execution_count": 19,
   "metadata": {},
   "outputs": [],
   "source": [
    "#removing time from appointment day\n",
    "df['appointmentday'] = df['appointmentday'].dt.date "
   ]
  },
  {
   "cell_type": "code",
   "execution_count": 20,
   "metadata": {},
   "outputs": [],
   "source": [
    "#creating new waittime column: the amount of time (in days) between sched day and appt day\n",
    "df['waittime'] = df['appointmentday'] - df['scheduledday']"
   ]
  },
  {
   "cell_type": "code",
   "execution_count": 21,
   "metadata": {},
   "outputs": [
    {
     "data": {
      "text/html": [
       "<div>\n",
       "<style scoped>\n",
       "    .dataframe tbody tr th:only-of-type {\n",
       "        vertical-align: middle;\n",
       "    }\n",
       "\n",
       "    .dataframe tbody tr th {\n",
       "        vertical-align: top;\n",
       "    }\n",
       "\n",
       "    .dataframe thead th {\n",
       "        text-align: right;\n",
       "    }\n",
       "</style>\n",
       "<table border=\"1\" class=\"dataframe\">\n",
       "  <thead>\n",
       "    <tr style=\"text-align: right;\">\n",
       "      <th></th>\n",
       "      <th>patientid</th>\n",
       "      <th>appointmentid</th>\n",
       "      <th>gender</th>\n",
       "      <th>scheduledday</th>\n",
       "      <th>appointmentday</th>\n",
       "      <th>age</th>\n",
       "      <th>neighbourhood</th>\n",
       "      <th>scholarship</th>\n",
       "      <th>hypertension</th>\n",
       "      <th>diabetes</th>\n",
       "      <th>alcoholism</th>\n",
       "      <th>handicap</th>\n",
       "      <th>sms_received</th>\n",
       "      <th>no_show</th>\n",
       "      <th>sched_weekday</th>\n",
       "      <th>appt_weekday</th>\n",
       "      <th>waittime</th>\n",
       "    </tr>\n",
       "  </thead>\n",
       "  <tbody>\n",
       "    <tr>\n",
       "      <th>0</th>\n",
       "      <td>2.987250e+13</td>\n",
       "      <td>5642903</td>\n",
       "      <td>F</td>\n",
       "      <td>2016-04-29</td>\n",
       "      <td>2016-04-29</td>\n",
       "      <td>62</td>\n",
       "      <td>JARDIM DA PENHA</td>\n",
       "      <td>0</td>\n",
       "      <td>1</td>\n",
       "      <td>0</td>\n",
       "      <td>0</td>\n",
       "      <td>0</td>\n",
       "      <td>0</td>\n",
       "      <td>No</td>\n",
       "      <td>Friday</td>\n",
       "      <td>Friday</td>\n",
       "      <td>0 days</td>\n",
       "    </tr>\n",
       "  </tbody>\n",
       "</table>\n",
       "</div>"
      ],
      "text/plain": [
       "      patientid  appointmentid gender scheduledday appointmentday  age  \\\n",
       "0  2.987250e+13        5642903      F   2016-04-29     2016-04-29   62   \n",
       "\n",
       "     neighbourhood  scholarship  hypertension  diabetes  alcoholism  handicap  \\\n",
       "0  JARDIM DA PENHA            0             1         0           0         0   \n",
       "\n",
       "   sms_received no_show sched_weekday appt_weekday waittime  \n",
       "0             0      No        Friday       Friday   0 days  "
      ]
     },
     "execution_count": 21,
     "metadata": {},
     "output_type": "execute_result"
    }
   ],
   "source": [
    "#checking for new columns\n",
    "df.head(1)"
   ]
  },
  {
   "cell_type": "code",
   "execution_count": 22,
   "metadata": {},
   "outputs": [
    {
     "data": {
      "text/plain": [
       "count                        110526\n",
       "mean     10 days 04:24:39.789370826\n",
       "std      15 days 06:07:14.979140739\n",
       "min               -6 days +00:00:00\n",
       "25%                 0 days 00:00:00\n",
       "50%                 4 days 00:00:00\n",
       "75%                15 days 00:00:00\n",
       "max               179 days 00:00:00\n",
       "Name: waittime, dtype: object"
      ]
     },
     "execution_count": 22,
     "metadata": {},
     "output_type": "execute_result"
    }
   ],
   "source": [
    "df.waittime.describe()"
   ]
  },
  {
   "cell_type": "code",
   "execution_count": 23,
   "metadata": {},
   "outputs": [],
   "source": [
    "#converting waittime to integer\n",
    "#first convert to str to remove the 'days' string behind\n",
    "df['waittime'] = df['waittime'].astype('str') \n",
    "df['waittime'] = df['waittime'].apply(lambda x: x.split()[0])\n",
    "df['waittime'] = df['waittime'].astype('int64')"
   ]
  },
  {
   "cell_type": "code",
   "execution_count": 24,
   "metadata": {},
   "outputs": [],
   "source": [
    "#finding rows where waittime is less than 0\n",
    "wait_drop = df[df['waittime'] < 0].index"
   ]
  },
  {
   "cell_type": "code",
   "execution_count": 25,
   "metadata": {},
   "outputs": [
    {
     "data": {
      "text/plain": [
       "5"
      ]
     },
     "execution_count": 25,
     "metadata": {},
     "output_type": "execute_result"
    }
   ],
   "source": [
    "#there are only 5 rows, this will not affect the dataset a lot given its size so I  will drop those records\n",
    "wait_drop.nunique()"
   ]
  },
  {
   "cell_type": "code",
   "execution_count": 26,
   "metadata": {},
   "outputs": [],
   "source": [
    "#dropping rows where waittime is less than 0\n",
    "df = df.drop(wait_drop)"
   ]
  },
  {
   "cell_type": "code",
   "execution_count": 27,
   "metadata": {},
   "outputs": [
    {
     "data": {
      "text/plain": [
       "(110521, 17)"
      ]
     },
     "execution_count": 27,
     "metadata": {},
     "output_type": "execute_result"
    }
   ],
   "source": [
    "#we still have over 110k rows of data\n",
    "df.shape"
   ]
  },
  {
   "cell_type": "code",
   "execution_count": 28,
   "metadata": {},
   "outputs": [],
   "source": [
    "#dropping columns that are not relevant to my analysis: patientID, Neighbourhood, scheduled day, appointment day\n",
    "df.drop(columns = ['patientid', 'neighbourhood', 'scheduledday', 'appointmentday'] , inplace = True)"
   ]
  },
  {
   "cell_type": "code",
   "execution_count": 29,
   "metadata": {},
   "outputs": [
    {
     "data": {
      "text/html": [
       "<div>\n",
       "<style scoped>\n",
       "    .dataframe tbody tr th:only-of-type {\n",
       "        vertical-align: middle;\n",
       "    }\n",
       "\n",
       "    .dataframe tbody tr th {\n",
       "        vertical-align: top;\n",
       "    }\n",
       "\n",
       "    .dataframe thead th {\n",
       "        text-align: right;\n",
       "    }\n",
       "</style>\n",
       "<table border=\"1\" class=\"dataframe\">\n",
       "  <thead>\n",
       "    <tr style=\"text-align: right;\">\n",
       "      <th></th>\n",
       "      <th>appointmentid</th>\n",
       "      <th>gender</th>\n",
       "      <th>age</th>\n",
       "      <th>scholarship</th>\n",
       "      <th>hypertension</th>\n",
       "      <th>diabetes</th>\n",
       "      <th>alcoholism</th>\n",
       "      <th>handicap</th>\n",
       "      <th>sms_received</th>\n",
       "      <th>no_show</th>\n",
       "      <th>sched_weekday</th>\n",
       "      <th>appt_weekday</th>\n",
       "      <th>waittime</th>\n",
       "    </tr>\n",
       "  </thead>\n",
       "  <tbody>\n",
       "    <tr>\n",
       "      <th>0</th>\n",
       "      <td>5642903</td>\n",
       "      <td>F</td>\n",
       "      <td>62</td>\n",
       "      <td>0</td>\n",
       "      <td>1</td>\n",
       "      <td>0</td>\n",
       "      <td>0</td>\n",
       "      <td>0</td>\n",
       "      <td>0</td>\n",
       "      <td>No</td>\n",
       "      <td>Friday</td>\n",
       "      <td>Friday</td>\n",
       "      <td>0</td>\n",
       "    </tr>\n",
       "    <tr>\n",
       "      <th>1</th>\n",
       "      <td>5642503</td>\n",
       "      <td>M</td>\n",
       "      <td>56</td>\n",
       "      <td>0</td>\n",
       "      <td>0</td>\n",
       "      <td>0</td>\n",
       "      <td>0</td>\n",
       "      <td>0</td>\n",
       "      <td>0</td>\n",
       "      <td>No</td>\n",
       "      <td>Friday</td>\n",
       "      <td>Friday</td>\n",
       "      <td>0</td>\n",
       "    </tr>\n",
       "    <tr>\n",
       "      <th>2</th>\n",
       "      <td>5642549</td>\n",
       "      <td>F</td>\n",
       "      <td>62</td>\n",
       "      <td>0</td>\n",
       "      <td>0</td>\n",
       "      <td>0</td>\n",
       "      <td>0</td>\n",
       "      <td>0</td>\n",
       "      <td>0</td>\n",
       "      <td>No</td>\n",
       "      <td>Friday</td>\n",
       "      <td>Friday</td>\n",
       "      <td>0</td>\n",
       "    </tr>\n",
       "  </tbody>\n",
       "</table>\n",
       "</div>"
      ],
      "text/plain": [
       "   appointmentid gender  age  scholarship  hypertension  diabetes  alcoholism  \\\n",
       "0        5642903      F   62            0             1         0           0   \n",
       "1        5642503      M   56            0             0         0           0   \n",
       "2        5642549      F   62            0             0         0           0   \n",
       "\n",
       "   handicap  sms_received no_show sched_weekday appt_weekday  waittime  \n",
       "0         0             0      No        Friday       Friday         0  \n",
       "1         0             0      No        Friday       Friday         0  \n",
       "2         0             0      No        Friday       Friday         0  "
      ]
     },
     "execution_count": 29,
     "metadata": {},
     "output_type": "execute_result"
    }
   ],
   "source": [
    "#check to confirm changes\n",
    "df.head(3)"
   ]
  },
  {
   "cell_type": "code",
   "execution_count": 30,
   "metadata": {},
   "outputs": [],
   "source": [
    "#save modified dataset \n",
    "df.to_csv('appointment_data_edited.csv', index = False)"
   ]
  },
  {
   "cell_type": "code",
   "execution_count": 31,
   "metadata": {},
   "outputs": [
    {
     "data": {
      "text/html": [
       "<div>\n",
       "<style scoped>\n",
       "    .dataframe tbody tr th:only-of-type {\n",
       "        vertical-align: middle;\n",
       "    }\n",
       "\n",
       "    .dataframe tbody tr th {\n",
       "        vertical-align: top;\n",
       "    }\n",
       "\n",
       "    .dataframe thead th {\n",
       "        text-align: right;\n",
       "    }\n",
       "</style>\n",
       "<table border=\"1\" class=\"dataframe\">\n",
       "  <thead>\n",
       "    <tr style=\"text-align: right;\">\n",
       "      <th></th>\n",
       "      <th>appointmentid</th>\n",
       "      <th>gender</th>\n",
       "      <th>age</th>\n",
       "      <th>scholarship</th>\n",
       "      <th>hypertension</th>\n",
       "      <th>diabetes</th>\n",
       "      <th>alcoholism</th>\n",
       "      <th>handicap</th>\n",
       "      <th>sms_received</th>\n",
       "      <th>no_show</th>\n",
       "      <th>sched_weekday</th>\n",
       "      <th>appt_weekday</th>\n",
       "      <th>waittime</th>\n",
       "    </tr>\n",
       "  </thead>\n",
       "  <tbody>\n",
       "    <tr>\n",
       "      <th>0</th>\n",
       "      <td>5642903</td>\n",
       "      <td>F</td>\n",
       "      <td>62</td>\n",
       "      <td>0</td>\n",
       "      <td>1</td>\n",
       "      <td>0</td>\n",
       "      <td>0</td>\n",
       "      <td>0</td>\n",
       "      <td>0</td>\n",
       "      <td>No</td>\n",
       "      <td>Friday</td>\n",
       "      <td>Friday</td>\n",
       "      <td>0</td>\n",
       "    </tr>\n",
       "    <tr>\n",
       "      <th>1</th>\n",
       "      <td>5642503</td>\n",
       "      <td>M</td>\n",
       "      <td>56</td>\n",
       "      <td>0</td>\n",
       "      <td>0</td>\n",
       "      <td>0</td>\n",
       "      <td>0</td>\n",
       "      <td>0</td>\n",
       "      <td>0</td>\n",
       "      <td>No</td>\n",
       "      <td>Friday</td>\n",
       "      <td>Friday</td>\n",
       "      <td>0</td>\n",
       "    </tr>\n",
       "    <tr>\n",
       "      <th>2</th>\n",
       "      <td>5642549</td>\n",
       "      <td>F</td>\n",
       "      <td>62</td>\n",
       "      <td>0</td>\n",
       "      <td>0</td>\n",
       "      <td>0</td>\n",
       "      <td>0</td>\n",
       "      <td>0</td>\n",
       "      <td>0</td>\n",
       "      <td>No</td>\n",
       "      <td>Friday</td>\n",
       "      <td>Friday</td>\n",
       "      <td>0</td>\n",
       "    </tr>\n",
       "  </tbody>\n",
       "</table>\n",
       "</div>"
      ],
      "text/plain": [
       "   appointmentid gender  age  scholarship  hypertension  diabetes  alcoholism  \\\n",
       "0        5642903      F   62            0             1         0           0   \n",
       "1        5642503      M   56            0             0         0           0   \n",
       "2        5642549      F   62            0             0         0           0   \n",
       "\n",
       "   handicap  sms_received no_show sched_weekday appt_weekday  waittime  \n",
       "0         0             0      No        Friday       Friday         0  \n",
       "1         0             0      No        Friday       Friday         0  \n",
       "2         0             0      No        Friday       Friday         0  "
      ]
     },
     "execution_count": 31,
     "metadata": {},
     "output_type": "execute_result"
    }
   ],
   "source": [
    "# Loading modified dataset \n",
    "df = pd.read_csv('appointment_data_edited.csv')\n",
    "df.head(3)"
   ]
  },
  {
   "cell_type": "markdown",
   "metadata": {},
   "source": [
    "<a id='eda'></a>\n",
    "## Exploratory Data Analysis\n",
    "\n",
    "\n",
    "\n",
    "### 1.  How many appointments  did patients not show up for ?"
   ]
  },
  {
   "cell_type": "code",
   "execution_count": 32,
   "metadata": {
    "scrolled": true
   },
   "outputs": [
    {
     "data": {
      "text/plain": [
       "no_show\n",
       "No     88207\n",
       "Yes    22314\n",
       "Name: appointmentid, dtype: int64"
      ]
     },
     "execution_count": 32,
     "metadata": {},
     "output_type": "execute_result"
    }
   ],
   "source": [
    "show_up_count = df.groupby('no_show').count()['appointmentid']\n",
    "show_up_count"
   ]
  },
  {
   "cell_type": "markdown",
   "metadata": {},
   "source": [
    ">  ### Patients did not show up to about 22,000 appointments\n",
    "    > * lets look at what proportion of the dataset this group is."
   ]
  },
  {
   "cell_type": "code",
   "execution_count": 33,
   "metadata": {},
   "outputs": [
    {
     "data": {
      "text/plain": [
       "no_show\n",
       "No     79.810172\n",
       "Yes    20.189828\n",
       "Name: appointmentid, dtype: float64"
      ]
     },
     "execution_count": 33,
     "metadata": {},
     "output_type": "execute_result"
    }
   ],
   "source": [
    "show_up_prop = (show_up_count/len(df)) * 100\n",
    "show_up_prop"
   ]
  },
  {
   "cell_type": "markdown",
   "metadata": {},
   "source": [
    "> ### About 20% of appointments in the dataset were no_shows"
   ]
  },
  {
   "cell_type": "code",
   "execution_count": 34,
   "metadata": {},
   "outputs": [
    {
     "data": {
      "image/png": "[encoded data removed]",
      "text/plain": [
       "<Figure size 432x288 with 1 Axes>"
      ]
     },
     "metadata": {},
     "output_type": "display_data"
    }
   ],
   "source": [
    "#pie chart showing the proportion of appointments that were missed in the dataset\n",
    "data =show_up_prop\n",
    "labels = ['Showed', 'No show']\n",
    "colors = sns.color_palette('Dark2')[0:5]\n",
    "plt.pie(data, colors = colors, labels = labels, autopct = '%0.2f%%', radius = 1.5, explode = (0, 0.15),textprops = {\"fontsize\":15})\n",
    "plt.title(\"Percentage of appointments that were missed\", y=1.2);\n"
   ]
  },
  {
   "cell_type": "markdown",
   "metadata": {},
   "source": [
    "### 2. Is one gender more likely to show up for their appointment?"
   ]
  },
  {
   "cell_type": "code",
   "execution_count": 35,
   "metadata": {},
   "outputs": [
    {
     "data": {
      "text/plain": [
       "gender\n",
       "F    71836\n",
       "M    38685\n",
       "Name: appointmentid, dtype: int64"
      ]
     },
     "execution_count": 35,
     "metadata": {},
     "output_type": "execute_result"
    }
   ],
   "source": [
    "# Counting how many appointments belong to each gender\n",
    "gender_count = df.groupby('gender').appointmentid.count()\n",
    "gender_count"
   ]
  },
  {
   "cell_type": "code",
   "execution_count": 36,
   "metadata": {},
   "outputs": [
    {
     "data": {
      "image/png": "[encoded data removed]",
      "text/plain": [
       "<Figure size 432x288 with 1 Axes>"
      ]
     },
     "metadata": {
      "needs_background": "light"
     },
     "output_type": "display_data"
    }
   ],
   "source": [
    "#Countplot of gender distribution in the dataset\n",
    "sns.countplot(x=\"gender\", data=df, palette = 'magma')\n",
    "plt.title('Count of gender distribution');"
   ]
  },
  {
   "cell_type": "markdown",
   "metadata": {},
   "source": [
    ">  ### There are over 71,000 female patients while the male patients are almost half that number at 38,685\n",
    "    > * lets look at what gender kept their appointments the most"
   ]
  },
  {
   "cell_type": "code",
   "execution_count": 37,
   "metadata": {},
   "outputs": [
    {
     "data": {
      "text/plain": [
       "gender  no_show\n",
       "F       No         57245\n",
       "        Yes        14591\n",
       "M       No         30962\n",
       "        Yes         7723\n",
       "Name: appointmentid, dtype: int64"
      ]
     },
     "execution_count": 37,
     "metadata": {},
     "output_type": "execute_result"
    }
   ],
   "source": [
    "gender_show_count = df.groupby(['gender','no_show']).appointmentid.count()\n",
    "gender_show_count"
   ]
  },
  {
   "cell_type": "code",
   "execution_count": 38,
   "metadata": {},
   "outputs": [
    {
     "data": {
      "image/png": "[encoded data removed]",
      "text/plain": [
       "<Figure size 432x288 with 1 Axes>"
      ]
     },
     "metadata": {
      "needs_background": "light"
     },
     "output_type": "display_data"
    }
   ],
   "source": [
    "sns.countplot(x=\"gender\", data=df, hue = 'no_show', palette = 'magma')\n",
    "plt.title('Count of gender distribution by appointment (show/no show)');\n"
   ]
  },
  {
   "cell_type": "markdown",
   "metadata": {},
   "source": [
    "> ### Almost 60,000 female patients showed up for their appointments while just over 30,000 male did\n",
    "    > * More women showed up for appointments than men but there are also more women in the dataset so the numbers might be skewing the results\n",
    "    > * I will now look at proportions to circumvent this limitation"
   ]
  },
  {
   "cell_type": "code",
   "execution_count": 39,
   "metadata": {},
   "outputs": [
    {
     "data": {
      "text/plain": [
       "gender  no_show\n",
       "F       No         79.688457\n",
       "        Yes        20.311543\n",
       "M       No         80.036190\n",
       "        Yes        19.963810\n",
       "Name: appointmentid, dtype: float64"
      ]
     },
     "execution_count": 39,
     "metadata": {},
     "output_type": "execute_result"
    }
   ],
   "source": [
    "gender_prop = (gender_show_count/gender_count) * 100\n",
    "gender_prop"
   ]
  },
  {
   "cell_type": "code",
   "execution_count": 40,
   "metadata": {},
   "outputs": [
    {
     "data": {
      "image/png": "[encoded data removed]",
      "text/plain": [
       "<Figure size 432x288 with 1 Axes>"
      ]
     },
     "metadata": {
      "needs_background": "light"
     },
     "output_type": "display_data"
    }
   ],
   "source": [
    "(df['no_show'].groupby(df['gender']).value_counts(normalize=True).rename('proportion').reset_index().\n",
    " pipe((sns.barplot, \"data\"), x='gender', y='proportion', hue='no_show', palette = 'magma'));"
   ]
  },
  {
   "cell_type": "markdown",
   "metadata": {},
   "source": [
    "> ### After looking at proportions we can see that altough the show up count was higher for female patients, the percentage of patients that showed up for both genders were the same at approximatly 80% - with females even being lower by a miniscule 0.3%."
   ]
  },
  {
   "cell_type": "markdown",
   "metadata": {},
   "source": [
    "### 3. Does age affect showing up to appointments?"
   ]
  },
  {
   "cell_type": "code",
   "execution_count": 41,
   "metadata": {},
   "outputs": [
    {
     "data": {
      "image/png": "[encoded data removed]",
      "text/plain": [
       "<Figure size 432x288 with 1 Axes>"
      ]
     },
     "metadata": {
      "needs_background": "light"
     },
     "output_type": "display_data"
    }
   ],
   "source": [
    "#the max age of 115 is an outlier\n",
    "# I have chosen to leave it in because is quite possible that an older patient had an appointment\n",
    "sns.boxplot(y = 'age', data = df, width = 0.3 , palette ='Set2')\n",
    "plt.title(\"Spread of the Age in dataset\");"
   ]
  },
  {
   "cell_type": "code",
   "execution_count": 42,
   "metadata": {},
   "outputs": [
    {
     "data": {
      "image/png": "[encoded data removed]",
      "text/plain": [
       "<Figure size 432x288 with 1 Axes>"
      ]
     },
     "metadata": {
      "needs_background": "light"
     },
     "output_type": "display_data"
    }
   ],
   "source": [
    "#age is left skewed which means most of the patients are younger\n",
    "sns.histplot(data=df, x=\"age\", bins = 10)\n",
    "plt.title(\"Distribution of the Age in dataset\");"
   ]
  },
  {
   "cell_type": "code",
   "execution_count": 43,
   "metadata": {},
   "outputs": [
    {
     "data": {
      "text/plain": [
       "no_show\n",
       "No     37.790504\n",
       "Yes    34.317872\n",
       "Name: age, dtype: float64"
      ]
     },
     "execution_count": 43,
     "metadata": {},
     "output_type": "execute_result"
    }
   ],
   "source": [
    "df.groupby('no_show').age.mean()"
   ]
  },
  {
   "cell_type": "markdown",
   "metadata": {},
   "source": [
    ">  ### The mean age of those who met their appointments is approximately 37, while for those who did not it is 34.\n",
    "    > * It is possible that the older the patients, the more likely they are to show up to their appointment\n",
    "    > * I will put the age in bins for a more detailed analysis"
   ]
  },
  {
   "cell_type": "code",
   "execution_count": 44,
   "metadata": {},
   "outputs": [],
   "source": [
    "#binned the ages in the dataset using the quartiles of  the age column\n",
    "df['age_group'] = pd.cut(df['age'], [0, 18, 37, 55, 115], labels = ['child','adult' ,'mid_age', 'elder'], include_lowest = True )"
   ]
  },
  {
   "cell_type": "code",
   "execution_count": 45,
   "metadata": {},
   "outputs": [
    {
     "data": {
      "text/plain": [
       "age_group\n",
       "child      28865\n",
       "adult      27248\n",
       "mid_age    26905\n",
       "elder      27503\n",
       "Name: appointmentid, dtype: int64"
      ]
     },
     "execution_count": 45,
     "metadata": {},
     "output_type": "execute_result"
    }
   ],
   "source": [
    "# Counting how many appointments were scheduled for each age group\n",
    "age_total = df.groupby(['age_group']).count()['appointmentid']\n",
    "age_total"
   ]
  },
  {
   "cell_type": "code",
   "execution_count": 46,
   "metadata": {},
   "outputs": [
    {
     "data": {
      "image/png": "[encoded data removed]",
      "text/plain": [
       "<Figure size 432x288 with 1 Axes>"
      ]
     },
     "metadata": {},
     "output_type": "display_data"
    }
   ],
   "source": [
    "#there is a differerence less than 2% between the groups, with the child group having the most appointments\n",
    "data =age_total\n",
    "labels = ['child','adult', 'mid_age', 'elder']\n",
    "colors = sns.color_palette('Set2')[0:5]\n",
    "plt.pie(data, colors = colors, labels = labels, autopct = '%0.2f%%', radius = 1.5)\n",
    "plt.title (\"pie chart of number of appointments within the age bins\", y = 1.2);"
   ]
  },
  {
   "cell_type": "code",
   "execution_count": 47,
   "metadata": {},
   "outputs": [
    {
     "data": {
      "text/plain": [
       "age_group  no_show\n",
       "child      No         22519\n",
       "           Yes         6346\n",
       "adult      No         20836\n",
       "           Yes         6412\n",
       "mid_age    No         21651\n",
       "           Yes         5254\n",
       "elder      No         23201\n",
       "           Yes         4302\n",
       "Name: appointmentid, dtype: int64"
      ]
     },
     "execution_count": 47,
     "metadata": {},
     "output_type": "execute_result"
    }
   ],
   "source": [
    "age_count = df.groupby(['age_group', 'no_show']).count()['appointmentid']\n",
    "age_count"
   ]
  },
  {
   "cell_type": "code",
   "execution_count": 48,
   "metadata": {},
   "outputs": [
    {
     "data": {
      "image/png": "[encoded data removed]",
      "text/plain": [
       "<Figure size 432x288 with 1 Axes>"
      ]
     },
     "metadata": {
      "needs_background": "light"
     },
     "output_type": "display_data"
    }
   ],
   "source": [
    "sns.countplot(x=\"age_group\", data=df, hue = 'no_show', palette = 'Set2')\n",
    "plt.title('Count of age group show');"
   ]
  },
  {
   "cell_type": "markdown",
   "metadata": {},
   "source": [
    ">  ### As suspected, older patients showed up to their appointment in greater number than younger ones, altough those patients below 18 also showed up in large numbers\n",
    "    > * I will examine the proportions so that a clearer picture can emerge"
   ]
  },
  {
   "cell_type": "code",
   "execution_count": 49,
   "metadata": {},
   "outputs": [
    {
     "data": {
      "text/plain": [
       "age_group  no_show\n",
       "child      No         78.014897\n",
       "           Yes        21.985103\n",
       "adult      No         76.467998\n",
       "           Yes        23.532002\n",
       "mid_age    No         80.472031\n",
       "           Yes        19.527969\n",
       "elder      No         84.358070\n",
       "           Yes        15.641930\n",
       "Name: appointmentid, dtype: float64"
      ]
     },
     "execution_count": 49,
     "metadata": {},
     "output_type": "execute_result"
    }
   ],
   "source": [
    "age_prop = (age_count/age_total) * 100\n",
    "age_prop "
   ]
  },
  {
   "cell_type": "markdown",
   "metadata": {},
   "source": [
    "> ### After looking at proportions we can see that age group of patients that showed up the most were the elder bin at 84% followed by those in the mid age bin at 80%. \n",
    "\n",
    "> ### Those in the adult bin showed the least in the age groups at 76% while 78% of those in the child bin showed up."
   ]
  },
  {
   "cell_type": "markdown",
   "metadata": {},
   "source": [
    "### 4. Did patients on scholarship show up for their appointments more than those not on scholarship?"
   ]
  },
  {
   "cell_type": "code",
   "execution_count": 50,
   "metadata": {},
   "outputs": [
    {
     "data": {
      "text/plain": [
       "scholarship\n",
       "0    99660\n",
       "1    10861\n",
       "Name: appointmentid, dtype: int64"
      ]
     },
     "execution_count": 50,
     "metadata": {},
     "output_type": "execute_result"
    }
   ],
   "source": [
    "#counting how many appointments were for patients on scholarship\n",
    "scholar_total = df.groupby('scholarship').appointmentid.count()\n",
    "scholar_total"
   ]
  },
  {
   "cell_type": "code",
   "execution_count": 51,
   "metadata": {},
   "outputs": [
    {
     "data": {
      "image/png": "[encoded data removed]",
      "text/plain": [
       "<Figure size 432x288 with 1 Axes>"
      ]
     },
     "metadata": {
      "needs_background": "light"
     },
     "output_type": "display_data"
    }
   ],
   "source": [
    "#Countplot of scholarship distribution in the dataset\n",
    "sns.countplot(x=\"scholarship\", data=df, palette = 'hot')\n",
    "plt.title('Count of scholarship');"
   ]
  },
  {
   "cell_type": "markdown",
   "metadata": {},
   "source": [
    ">  ### Just over 10,000 patients are on scholarship while over 99,000 patients are not on scholarship\n",
    "    > * lets look at which of these groups showed up for appointments the most"
   ]
  },
  {
   "cell_type": "code",
   "execution_count": 52,
   "metadata": {},
   "outputs": [
    {
     "data": {
      "text/plain": [
       "scholarship  no_show\n",
       "0            No         79924\n",
       "             Yes        19736\n",
       "1            No          8283\n",
       "             Yes         2578\n",
       "Name: appointmentid, dtype: int64"
      ]
     },
     "execution_count": 52,
     "metadata": {},
     "output_type": "execute_result"
    }
   ],
   "source": [
    "scholar_count = df.groupby(['scholarship','no_show']).appointmentid.count()\n",
    "scholar_count"
   ]
  },
  {
   "cell_type": "code",
   "execution_count": 53,
   "metadata": {},
   "outputs": [
    {
     "data": {
      "image/png": "[encoded data removed]",
      "text/plain": [
       "<Figure size 432x288 with 1 Axes>"
      ]
     },
     "metadata": {
      "needs_background": "light"
     },
     "output_type": "display_data"
    }
   ],
   "source": [
    "sns.countplot(x=\"scholarship\", data=df, hue = 'no_show', palette = 'hot')\n",
    "plt.title('Count of scholarship distribution by appointment(show/no show)');"
   ]
  },
  {
   "cell_type": "markdown",
   "metadata": {},
   "source": [
    "> ### Almost 80,000 patients without showed up for their appointments while just over 8,000 patients on scholarship showed up\n",
    "    > * There are also more patients not on scholarship in the dataset so the numbers might be skewing the results\n",
    "    > * I will now look at proportions to circumvent this limitation"
   ]
  },
  {
   "cell_type": "code",
   "execution_count": 54,
   "metadata": {},
   "outputs": [
    {
     "data": {
      "text/plain": [
       "scholarship  no_show\n",
       "0            No         80.196669\n",
       "             Yes        19.803331\n",
       "1            No         76.263696\n",
       "             Yes        23.736304\n",
       "Name: appointmentid, dtype: float64"
      ]
     },
     "execution_count": 54,
     "metadata": {},
     "output_type": "execute_result"
    }
   ],
   "source": [
    "scholar_prop = (scholar_count/scholar_total) * 100\n",
    "scholar_prop"
   ]
  },
  {
   "cell_type": "code",
   "execution_count": 55,
   "metadata": {},
   "outputs": [
    {
     "data": {
      "image/png": "[encoded data removed]",
      "text/plain": [
       "<Figure size 432x288 with 1 Axes>"
      ]
     },
     "metadata": {
      "needs_background": "light"
     },
     "output_type": "display_data"
    }
   ],
   "source": [
    "(df['no_show'].groupby(df['scholarship']).value_counts(normalize=True).rename('proportion').reset_index().\n",
    " pipe((sns.barplot, \"data\"), x='scholarship', y='proportion', hue='no_show', palette = 'hot'));"
   ]
  },
  {
   "cell_type": "markdown",
   "metadata": {},
   "source": [
    "> ### After looking at proportions we can see that patients who were not on the scholarship program showed up more than those who were on it. No scholarship was 80%, while scholarship was 76%\n",
    "\n",
    "> * I would like to examine the relationship between age and those patients on scholarship. "
   ]
  },
  {
   "cell_type": "code",
   "execution_count": 56,
   "metadata": {},
   "outputs": [
    {
     "data": {
      "image/png": "[encoded data removed]",
      "text/plain": [
       "<Figure size 432x288 with 1 Axes>"
      ]
     },
     "metadata": {
      "needs_background": "light"
     },
     "output_type": "display_data"
    }
   ],
   "source": [
    "#correlation between age and scholarship\n",
    "sns.boxplot(x = 'scholarship', y = 'age', data = df, showfliers = False)\n",
    "plt.title('scholarship by age');"
   ]
  },
  {
   "cell_type": "markdown",
   "metadata": {},
   "source": [
    "> ### As suspected the age of those patients on scholarship are younger than those not on scholarship is as in order to be eligible for the program they have to have children of school age."
   ]
  },
  {
   "cell_type": "markdown",
   "metadata": {},
   "source": [
    "### 5. Did  receiving sms messages have an effect on showing up to appointments?"
   ]
  },
  {
   "cell_type": "code",
   "execution_count": 57,
   "metadata": {},
   "outputs": [
    {
     "data": {
      "text/plain": [
       "sms_received\n",
       "0    75039\n",
       "1    35482\n",
       "Name: appointmentid, dtype: int64"
      ]
     },
     "execution_count": 57,
     "metadata": {},
     "output_type": "execute_result"
    }
   ],
   "source": [
    "#counting how many appointments received and did not receive sms messages\n",
    "sms_count = df.groupby('sms_received').appointmentid.count()\n",
    "sms_count"
   ]
  },
  {
   "cell_type": "code",
   "execution_count": 58,
   "metadata": {},
   "outputs": [
    {
     "data": {
      "image/png": "[encoded data removed]",
      "text/plain": [
       "<Figure size 432x288 with 1 Axes>"
      ]
     },
     "metadata": {},
     "output_type": "display_data"
    }
   ],
   "source": [
    "data =sms_count\n",
    "labels = ['not received','received']\n",
    "colors = sns.color_palette('mako')[2:4]\n",
    "plt.pie(data, colors = colors, labels = labels, autopct = '%0.2f%%', radius = 1.5, explode = (0, 0.15),textprops = {\"fontsize\":15})\n",
    "plt.title(\"Percentage of patients who received sms message reminders and those who did not\", y=1.2);"
   ]
  },
  {
   "cell_type": "markdown",
   "metadata": {},
   "source": [
    ">  ### A little over 75,000 patients did not receive sms messages while over 35,000 patients received sms messages\n",
    "    > * lets look at which of these groups showed up for appointments the most"
   ]
  },
  {
   "cell_type": "code",
   "execution_count": 59,
   "metadata": {},
   "outputs": [
    {
     "data": {
      "text/plain": [
       "sms_received  no_show\n",
       "0             No         62509\n",
       "              Yes        12530\n",
       "1             No         25698\n",
       "              Yes         9784\n",
       "Name: appointmentid, dtype: int64"
      ]
     },
     "execution_count": 59,
     "metadata": {},
     "output_type": "execute_result"
    }
   ],
   "source": [
    "sms_show_count = df.groupby(['sms_received','no_show']).appointmentid.count()\n",
    "sms_show_count"
   ]
  },
  {
   "cell_type": "code",
   "execution_count": 60,
   "metadata": {},
   "outputs": [
    {
     "data": {
      "image/png": "[encoded data removed]",
      "text/plain": [
       "<Figure size 432x288 with 1 Axes>"
      ]
     },
     "metadata": {
      "needs_background": "light"
     },
     "output_type": "display_data"
    }
   ],
   "source": [
    "sns.countplot(x=\"sms_received\", data=df, hue = 'no_show', palette = 'mako')\n",
    "plt.title('Count of SMS reminder distribution by appointment(show/no show)');"
   ]
  },
  {
   "cell_type": "markdown",
   "metadata": {},
   "source": [
    "> ### More than 60,000 patients who did not receive sms showed up for their appointments while just over 25,000 patients who received sms showed up\n",
    "    > * There number of patients who did not receive sms is greater than those who did so the numbers might be skewing the results\n",
    "    > * I will now look at proportions to circumvent this limitation"
   ]
  },
  {
   "cell_type": "code",
   "execution_count": 61,
   "metadata": {},
   "outputs": [
    {
     "data": {
      "text/plain": [
       "sms_received  no_show\n",
       "0             No         83.302016\n",
       "              Yes        16.697984\n",
       "1             No         72.425455\n",
       "              Yes        27.574545\n",
       "Name: appointmentid, dtype: float64"
      ]
     },
     "execution_count": 61,
     "metadata": {},
     "output_type": "execute_result"
    }
   ],
   "source": [
    "sms_prop = (sms_show_count/sms_count) * 100\n",
    "sms_prop"
   ]
  },
  {
   "cell_type": "code",
   "execution_count": 62,
   "metadata": {},
   "outputs": [
    {
     "data": {
      "image/png": "[encoded data removed]",
      "text/plain": [
       "<Figure size 432x288 with 1 Axes>"
      ]
     },
     "metadata": {
      "needs_background": "light"
     },
     "output_type": "display_data"
    }
   ],
   "source": [
    "(df['no_show'].groupby(df['sms_received']).value_counts(normalize=True).rename('proportion').reset_index().\n",
    " pipe((sns.barplot, \"data\"), x='sms_received', y='proportion', hue='no_show', palette = 'mako'));"
   ]
  },
  {
   "cell_type": "markdown",
   "metadata": {},
   "source": [
    "> ### Even after adjusting for the difference in the number of patients using proportions we can see that patients who did not receive sms showed up more than those who were on it. There is an 11% diffreence in show up proportion between the two groups.\n",
    "\n",
    "> ### One explanation could be that sms reminders were sent to those who were late for their appointments with the intension of missing or skipping it already."
   ]
  },
  {
   "cell_type": "markdown",
   "metadata": {},
   "source": [
    "### 6. On what day of the week were most appointments scheduled?"
   ]
  },
  {
   "cell_type": "code",
   "execution_count": 63,
   "metadata": {},
   "outputs": [
    {
     "data": {
      "text/plain": [
       "sched_weekday\n",
       "Tuesday      26167\n",
       "Wednesday    24259\n",
       "Monday       23084\n",
       "Friday       18915\n",
       "Thursday     18072\n",
       "Saturday        24\n",
       "Name: no_show, dtype: int64"
      ]
     },
     "execution_count": 63,
     "metadata": {},
     "output_type": "execute_result"
    }
   ],
   "source": [
    "#counting the number of appointments scheduled on each day\n",
    "sched_count = df.groupby('sched_weekday').no_show.count().sort_values(ascending = False)\n",
    "sched_count"
   ]
  },
  {
   "cell_type": "code",
   "execution_count": 64,
   "metadata": {},
   "outputs": [
    {
     "data": {
      "image/png": "[encoded data removed]",
      "text/plain": [
       "<Figure size 432x288 with 1 Axes>"
      ]
     },
     "metadata": {
      "needs_background": "light"
     },
     "output_type": "display_data"
    }
   ],
   "source": [
    "sns.countplot(x=\"sched_weekday\", order = df['sched_weekday'].value_counts().index, data=df, palette = 'nipy_spectral')\n",
    "plt.title('Countplot of number of appointments scheduled on each day');"
   ]
  },
  {
   "cell_type": "markdown",
   "metadata": {},
   "source": [
    ">  ### The day with the highest number of appointments scheduled was Tuesday with over 26,000 appointments scheduled while saturday was the least with 24."
   ]
  },
  {
   "cell_type": "markdown",
   "metadata": {},
   "source": [
    "### 7. Which day of the week had the most appointments and which day had the most show up?"
   ]
  },
  {
   "cell_type": "code",
   "execution_count": 65,
   "metadata": {},
   "outputs": [
    {
     "data": {
      "text/plain": [
       "appt_weekday\n",
       "Wednesday    25866\n",
       "Tuesday      25638\n",
       "Monday       22713\n",
       "Friday       19019\n",
       "Thursday     17246\n",
       "Saturday        39\n",
       "Name: appointmentid, dtype: int64"
      ]
     },
     "execution_count": 65,
     "metadata": {},
     "output_type": "execute_result"
    }
   ],
   "source": [
    "#counting the number of appointments on each day\n",
    "appt_count = df.groupby('appt_weekday').appointmentid.count().sort_values(ascending = False)\n",
    "appt_count"
   ]
  },
  {
   "cell_type": "code",
   "execution_count": 66,
   "metadata": {},
   "outputs": [
    {
     "data": {
      "image/png": "[encoded data removed]",
      "text/plain": [
       "<Figure size 432x288 with 1 Axes>"
      ]
     },
     "metadata": {
      "needs_background": "light"
     },
     "output_type": "display_data"
    }
   ],
   "source": [
    "sns.countplot(x=\"appt_weekday\", order = df['appt_weekday'].value_counts().index, data=df, palette = 'nipy_spectral')\n",
    "plt.title('Countplot of number of appointments on each day');"
   ]
  },
  {
   "cell_type": "markdown",
   "metadata": {},
   "source": [
    ">  ### The day with the highest number of appointments was Wednesday with over 25,866 appointments and Tuesday follows closely with 25,638.\n",
    "\n",
    "> * This is expected because as the highest volume of appointments were scheduled on Tuesday and Wednesday, the patients were probably asked to come in the same or the next day to see a doctor\n",
    "\n",
    "> * I will now investigate which of this appointment dates had the most number of show up\n"
   ]
  },
  {
   "cell_type": "code",
   "execution_count": 67,
   "metadata": {},
   "outputs": [
    {
     "data": {
      "text/plain": [
       "appt_weekday  no_show\n",
       "Friday        No         14982\n",
       "              Yes         4037\n",
       "Monday        No         18024\n",
       "              Yes         4689\n",
       "Saturday      No            30\n",
       "              Yes            9\n",
       "Thursday      No         13909\n",
       "              Yes         3337\n",
       "Tuesday       No         20488\n",
       "              Yes         5150\n",
       "Wednesday     No         20774\n",
       "              Yes         5092\n",
       "Name: appointmentid, dtype: int64"
      ]
     },
     "execution_count": 67,
     "metadata": {},
     "output_type": "execute_result"
    }
   ],
   "source": [
    "appt_day_show = df.groupby(['appt_weekday','no_show']).appointmentid.count()\n",
    "appt_day_show"
   ]
  },
  {
   "cell_type": "code",
   "execution_count": 68,
   "metadata": {},
   "outputs": [
    {
     "data": {
      "image/png": "[encoded data removed]",
      "text/plain": [
       "<Figure size 432x288 with 1 Axes>"
      ]
     },
     "metadata": {
      "needs_background": "light"
     },
     "output_type": "display_data"
    }
   ],
   "source": [
    "sns.countplot(x=\"appt_weekday\", order = df['appt_weekday'].value_counts().index, data=df, hue = 'no_show', palette = 'nipy_spectral')\n",
    "plt.title('Countplot of number of appointments on each day by appointment (show/no show)');"
   ]
  },
  {
   "cell_type": "markdown",
   "metadata": {},
   "source": [
    "> ### The amount of people who showed up for appointments follows the same trend as the number of appointments per day i.e Wednesday followed by Tuesday with the least being saturday.  \n",
    "    > *  I would however like to take a look at the number of patients who showed up to their appointments as a proportion of the total number of patients who had appointments on each day "
   ]
  },
  {
   "cell_type": "code",
   "execution_count": 69,
   "metadata": {},
   "outputs": [
    {
     "data": {
      "text/plain": [
       "appt_weekday  no_show\n",
       "Friday        No         78.773858\n",
       "              Yes        21.226142\n",
       "Monday        No         79.355435\n",
       "              Yes        20.644565\n",
       "Saturday      No         76.923077\n",
       "              Yes        23.076923\n",
       "Thursday      No         80.650586\n",
       "              Yes        19.349414\n",
       "Tuesday       No         79.912630\n",
       "              Yes        20.087370\n",
       "Wednesday     No         80.313926\n",
       "              Yes        19.686074\n",
       "Name: appointmentid, dtype: float64"
      ]
     },
     "execution_count": 69,
     "metadata": {},
     "output_type": "execute_result"
    }
   ],
   "source": [
    "appt_prop =( appt_day_show/appt_count) * 100\n",
    "appt_prop"
   ]
  },
  {
   "cell_type": "markdown",
   "metadata": {},
   "source": [
    "> ### After looking at proportions we can see that every day of the week had almost the same proportion of patients showing up, the difference betwen the highest show up day and the lowest was about 4%.\n",
    "\n",
    "> ### Infact, contratry to what the countplot showed, a the proportion of people who showed up on Thurday surpassed those who showed up on wednesday and Tuesday by a minute and probably insignificant 0.3% and 0.7% respectively."
   ]
  },
  {
   "cell_type": "markdown",
   "metadata": {},
   "source": [
    "### 8. Does the amount of wait time between schedule day and appointment day affect showing up to appointments?"
   ]
  },
  {
   "cell_type": "code",
   "execution_count": 70,
   "metadata": {},
   "outputs": [
    {
     "data": {
      "text/plain": [
       "count    110521.000000\n",
       "mean         10.184345\n",
       "std          15.255153\n",
       "min           0.000000\n",
       "25%           0.000000\n",
       "50%           4.000000\n",
       "75%          15.000000\n",
       "max         179.000000\n",
       "Name: waittime, dtype: float64"
      ]
     },
     "execution_count": 70,
     "metadata": {},
     "output_type": "execute_result"
    }
   ],
   "source": [
    "#The mean waittime is 10 days\n",
    "df.waittime.describe()"
   ]
  },
  {
   "cell_type": "code",
   "execution_count": 71,
   "metadata": {},
   "outputs": [],
   "source": [
    "#binned waittime in the dataset using the quartiles of the its column\n",
    "df['wait_bins'] = pd.cut(df['waittime'], [0, 4, 8, 15, 30, 179], labels = ['few_days','a_week' ,'forthnight', 'a_month', 'over_a_month'], include_lowest = True )"
   ]
  },
  {
   "cell_type": "code",
   "execution_count": 72,
   "metadata": {},
   "outputs": [
    {
     "data": {
      "text/plain": [
       "wait_bins\n",
       "few_days        58527\n",
       "a_week          14552\n",
       "forthnight      11196\n",
       "a_month         15868\n",
       "over_a_month    10378\n",
       "Name: no_show, dtype: int64"
      ]
     },
     "execution_count": 72,
     "metadata": {},
     "output_type": "execute_result"
    }
   ],
   "source": [
    "#almost 60k people waited only 0-4 days for their appointment day\n",
    "# Counting how many appointments belong to each bin\n",
    "wait_count = df.groupby('wait_bins').no_show.count()\n",
    "wait_count "
   ]
  },
  {
   "cell_type": "code",
   "execution_count": 73,
   "metadata": {},
   "outputs": [
    {
     "data": {
      "image/png": "[encoded data removed]",
      "text/plain": [
       "<Figure size 432x288 with 1 Axes>"
      ]
     },
     "metadata": {},
     "output_type": "display_data"
    }
   ],
   "source": [
    "#pie chart of  patient distribution within the age bins\n",
    "# they almost evenly distributed with differerence not more than 2% between the groups\n",
    "data =wait_count\n",
    "labels = ['few_days','a_week' ,'forthnight', 'a_month', 'over_a_month']\n",
    "colors = sns.color_palette('nipy_spectral')[1:]\n",
    "plt.pie(data, colors = colors, labels = labels, autopct = '%0.2f%%', radius = 1.5, explode = (0, 0.45, 0.35, 0.25, 0.15),textprops = {\"fontsize\":15})\n",
    "plt.title(\"Percentage of appointments that belong to each bin\", y=1.2);"
   ]
  },
  {
   "cell_type": "code",
   "execution_count": 74,
   "metadata": {},
   "outputs": [
    {
     "data": {
      "text/plain": [
       "wait_bins     no_show\n",
       "few_days      No         52145\n",
       "              Yes         6382\n",
       "a_week        No         10700\n",
       "              Yes         3852\n",
       "forthnight    No          7700\n",
       "              Yes         3496\n",
       "a_month       No         10709\n",
       "              Yes         5159\n",
       "over_a_month  No          6953\n",
       "              Yes         3425\n",
       "Name: appointmentid, dtype: int64"
      ]
     },
     "execution_count": 74,
     "metadata": {},
     "output_type": "execute_result"
    }
   ],
   "source": [
    "wait_show = df.groupby(['wait_bins','no_show']).appointmentid.count()\n",
    "wait_show"
   ]
  },
  {
   "cell_type": "code",
   "execution_count": 75,
   "metadata": {},
   "outputs": [
    {
     "data": {
      "image/png": "[encoded data removed]",
      "text/plain": [
       "<Figure size 432x288 with 1 Axes>"
      ]
     },
     "metadata": {
      "needs_background": "light"
     },
     "output_type": "display_data"
    }
   ],
   "source": [
    "sns.countplot(x=\"wait_bins\", data=df, hue = 'no_show', palette = 'nipy_spectral')\n",
    "plt.title('Countplot of wait time by appointment (show/no show)');\n"
   ]
  },
  {
   "cell_type": "markdown",
   "metadata": {},
   "source": [
    ">  ### As suspected, the longer the wait time between the schedule day and the appointment day the higher the number of patients who did not show."
   ]
  },
  {
   "cell_type": "code",
   "execution_count": 76,
   "metadata": {},
   "outputs": [
    {
     "data": {
      "text/plain": [
       "wait_bins     no_show\n",
       "few_days      No         89.095631\n",
       "              Yes        10.904369\n",
       "a_week        No         73.529412\n",
       "              Yes        26.470588\n",
       "forthnight    No         68.774562\n",
       "              Yes        31.225438\n",
       "a_month       No         67.488026\n",
       "              Yes        32.511974\n",
       "over_a_month  No         66.997495\n",
       "              Yes        33.002505\n",
       "dtype: float64"
      ]
     },
     "execution_count": 76,
     "metadata": {},
     "output_type": "execute_result"
    }
   ],
   "source": [
    "wait_prop = (wait_show/wait_count) * 100\n",
    "wait_prop"
   ]
  },
  {
   "cell_type": "markdown",
   "metadata": {},
   "source": [
    "> ### Looking at proportions we can see that the no_show percentage increased from 10% for those who waited for a few days to 26% - more than double- for those who waited a week. \n",
    "\n",
    "> ### The no_show percentage for those who waited a forthnight, a month and over a month were roughly the same at 31%, 32% and 33% respectively."
   ]
  },
  {
   "cell_type": "markdown",
   "metadata": {},
   "source": [
    "### 9. Do patients who have chronic illnesses (diabetes, hypertension , alcoholism) and handicap show up to their appointments more?"
   ]
  },
  {
   "cell_type": "markdown",
   "metadata": {},
   "source": [
    "#### Hypertension"
   ]
  },
  {
   "cell_type": "code",
   "execution_count": 77,
   "metadata": {
    "scrolled": true
   },
   "outputs": [
    {
     "data": {
      "text/plain": [
       "hypertension\n",
       "0    88720\n",
       "1    21801\n",
       "Name: appointmentid, dtype: int64"
      ]
     },
     "execution_count": 77,
     "metadata": {},
     "output_type": "execute_result"
    }
   ],
   "source": [
    "#the number of appointments with hypertensive patients in the dataset\n",
    "hyp_count = df.groupby('hypertension').appointmentid.count()\n",
    "hyp_count"
   ]
  },
  {
   "cell_type": "code",
   "execution_count": 78,
   "metadata": {},
   "outputs": [
    {
     "data": {
      "image/png": "[encoded data removed]",
      "text/plain": [
       "<Figure size 432x288 with 1 Axes>"
      ]
     },
     "metadata": {},
     "output_type": "display_data"
    }
   ],
   "source": [
    "#pie chart of the number of appointments with hypertensive patients in the dataset\n",
    "data =hyp_count\n",
    "labels = ['No Hypertension','Hypertension']\n",
    "colors = sns.color_palette('prism')[:]\n",
    "plt.pie(data, colors = colors, labels = labels, autopct = '%0.2f%%', radius = 1.5, explode = (0, 0.15),textprops = {\"fontsize\":15})\n",
    "plt.title(\"Percentage of patients with or without hypertension\", y=1.2);"
   ]
  },
  {
   "cell_type": "code",
   "execution_count": 79,
   "metadata": {
    "scrolled": false
   },
   "outputs": [
    {
     "data": {
      "text/plain": [
       "hypertension  no_show\n",
       "0             No         70178\n",
       "              Yes        18542\n",
       "1             No         18029\n",
       "              Yes         3772\n",
       "Name: appointmentid, dtype: int64"
      ]
     },
     "execution_count": 79,
     "metadata": {},
     "output_type": "execute_result"
    }
   ],
   "source": [
    "hyp_show_count = df.groupby(['hypertension','no_show']).appointmentid.count()\n",
    "hyp_show_count"
   ]
  },
  {
   "cell_type": "code",
   "execution_count": 80,
   "metadata": {
    "scrolled": false
   },
   "outputs": [
    {
     "data": {
      "image/png": "[encoded data removed]",
      "text/plain": [
       "<Figure size 432x288 with 1 Axes>"
      ]
     },
     "metadata": {
      "needs_background": "light"
     },
     "output_type": "display_data"
    }
   ],
   "source": [
    "sns.countplot(x=\"hypertension\", data=df, hue = 'no_show', palette = 'prism')\n",
    "plt.title('Count of hypertension distribution by appointment(show/no show)');"
   ]
  },
  {
   "cell_type": "markdown",
   "metadata": {},
   "source": [
    "> ### The number of patients with hypertension is much less than those without so, I will look at proportions to get a true estimate of their show up habits"
   ]
  },
  {
   "cell_type": "code",
   "execution_count": 81,
   "metadata": {
    "scrolled": true
   },
   "outputs": [
    {
     "data": {
      "text/plain": [
       "hypertension  no_show\n",
       "0             No         79.100541\n",
       "              Yes        20.899459\n",
       "1             No         82.698041\n",
       "              Yes        17.301959\n",
       "Name: appointmentid, dtype: float64"
      ]
     },
     "execution_count": 81,
     "metadata": {},
     "output_type": "execute_result"
    }
   ],
   "source": [
    "hyp_prop = (hyp_show_count/hyp_count) * 100\n",
    "hyp_prop"
   ]
  },
  {
   "cell_type": "code",
   "execution_count": 82,
   "metadata": {},
   "outputs": [
    {
     "data": {
      "image/png": "[encoded data removed]",
      "text/plain": [
       "<Figure size 432x288 with 1 Axes>"
      ]
     },
     "metadata": {
      "needs_background": "light"
     },
     "output_type": "display_data"
    }
   ],
   "source": [
    "(df['no_show'].groupby(df['hypertension']).value_counts(normalize=True).rename('proportion').reset_index().\n",
    " pipe((sns.barplot, \"data\"), x='hypertension', y='proportion', hue='no_show', palette = 'prism'));"
   ]
  },
  {
   "cell_type": "markdown",
   "metadata": {},
   "source": [
    "> ### After looking at proportions we can see that even though the show up count was higher for people were not hypertension, approximately 82% of hypertensives showed up for their appointments compared to 79% of non-hypertensives\n"
   ]
  },
  {
   "cell_type": "markdown",
   "metadata": {},
   "source": [
    "#### Diabetes"
   ]
  },
  {
   "cell_type": "code",
   "execution_count": 83,
   "metadata": {
    "scrolled": true
   },
   "outputs": [
    {
     "data": {
      "text/plain": [
       "diabetes\n",
       "0    102578\n",
       "1      7943\n",
       "Name: appointmentid, dtype: int64"
      ]
     },
     "execution_count": 83,
     "metadata": {},
     "output_type": "execute_result"
    }
   ],
   "source": [
    "#the number of appointments with diabetic patients in the dataset\n",
    "diab_count = df.groupby('diabetes').appointmentid.count()\n",
    "diab_count"
   ]
  },
  {
   "cell_type": "code",
   "execution_count": 84,
   "metadata": {},
   "outputs": [
    {
     "data": {
      "image/png": "[encoded data removed]",
      "text/plain": [
       "<Figure size 432x288 with 1 Axes>"
      ]
     },
     "metadata": {},
     "output_type": "display_data"
    }
   ],
   "source": [
    "#pie chart of the number of appointments with diabetic patients in the dataset\n",
    "data =diab_count\n",
    "labels = ['Non-diabetic','Diabetic']\n",
    "colors = sns.color_palette('summer')[3:5]\n",
    "plt.pie(data, colors = colors, labels = labels, autopct = '%0.2f%%', radius = 1.5, explode = (0, 0.15),textprops = {\"fontsize\":15})\n",
    "plt.title(\"Percentage of diabetic and non-diabetic patients\", y=1.2);"
   ]
  },
  {
   "cell_type": "markdown",
   "metadata": {},
   "source": [
    ">  ### Only about 7% of the patients in the dataset are diabetic\n",
    "    > * lets look at which group kept their appointments the most"
   ]
  },
  {
   "cell_type": "code",
   "execution_count": 85,
   "metadata": {
    "scrolled": true
   },
   "outputs": [
    {
     "data": {
      "text/plain": [
       "diabetes  no_show\n",
       "0         No         81694\n",
       "          Yes        20884\n",
       "1         No          6513\n",
       "          Yes         1430\n",
       "Name: appointmentid, dtype: int64"
      ]
     },
     "execution_count": 85,
     "metadata": {},
     "output_type": "execute_result"
    }
   ],
   "source": [
    "diab_show_count = df.groupby(['diabetes','no_show']).appointmentid.count()\n",
    "diab_show_count"
   ]
  },
  {
   "cell_type": "code",
   "execution_count": 86,
   "metadata": {
    "scrolled": true
   },
   "outputs": [
    {
     "data": {
      "image/png": "[encoded data removed]",
      "text/plain": [
       "<Figure size 432x288 with 1 Axes>"
      ]
     },
     "metadata": {
      "needs_background": "light"
     },
     "output_type": "display_data"
    }
   ],
   "source": [
    "sns.countplot(x=\"diabetes\", data=df, hue = 'no_show', palette = 'summer')\n",
    "plt.title('Count of diabetes distribution by appointment(show/no show)');"
   ]
  },
  {
   "cell_type": "markdown",
   "metadata": {},
   "source": [
    "> ### The number of patients with diabetes is much less than those without so, I will look at proportions to get a true estimate of their show up habits"
   ]
  },
  {
   "cell_type": "code",
   "execution_count": 87,
   "metadata": {
    "scrolled": false
   },
   "outputs": [
    {
     "data": {
      "text/plain": [
       "diabetes  no_show\n",
       "0         No         79.640859\n",
       "          Yes        20.359141\n",
       "1         No         81.996727\n",
       "          Yes        18.003273\n",
       "Name: appointmentid, dtype: float64"
      ]
     },
     "execution_count": 87,
     "metadata": {},
     "output_type": "execute_result"
    }
   ],
   "source": [
    "diab_prop = (diab_show_count/diab_count) * 100\n",
    "diab_prop"
   ]
  },
  {
   "cell_type": "code",
   "execution_count": 88,
   "metadata": {},
   "outputs": [
    {
     "data": {
      "image/png": "[encoded data removed]",
      "text/plain": [
       "<Figure size 432x288 with 1 Axes>"
      ]
     },
     "metadata": {
      "needs_background": "light"
     },
     "output_type": "display_data"
    }
   ],
   "source": [
    "(df['no_show'].groupby(df['diabetes']).value_counts(normalize=True).rename('proportion').reset_index().\n",
    " pipe((sns.barplot, \"data\"), x='diabetes', y='proportion', hue='no_show', palette = 'summer'));"
   ]
  },
  {
   "cell_type": "markdown",
   "metadata": {},
   "source": [
    "> ### After looking at proportions we can see that even though the show up count was higher for people were not hypertension, approximately 81% of diabetics showed up for their appointments compared to 79% of non-diabetics\n"
   ]
  },
  {
   "cell_type": "markdown",
   "metadata": {},
   "source": [
    "#### Alcoholism"
   ]
  },
  {
   "cell_type": "code",
   "execution_count": 89,
   "metadata": {
    "scrolled": true
   },
   "outputs": [
    {
     "data": {
      "text/plain": [
       "alcoholism\n",
       "0    107161\n",
       "1      3360\n",
       "Name: appointmentid, dtype: int64"
      ]
     },
     "execution_count": 89,
     "metadata": {},
     "output_type": "execute_result"
    }
   ],
   "source": [
    "#the number of appointments with alcoholic patients in the dataset\n",
    "alc_count = df.groupby('alcoholism').appointmentid.count()\n",
    "alc_count"
   ]
  },
  {
   "cell_type": "code",
   "execution_count": 90,
   "metadata": {},
   "outputs": [
    {
     "data": {
      "image/png": "[encoded data removed]",
      "text/plain": [
       "<Figure size 432x288 with 1 Axes>"
      ]
     },
     "metadata": {},
     "output_type": "display_data"
    }
   ],
   "source": [
    "#pie chart of the number of appointments with alcoholic patients in the dataset\n",
    "data =alc_count\n",
    "labels = ['Non-alcoholics','Alcoholics']\n",
    "colors = sns.color_palette('tab10')[3:5]\n",
    "plt.pie(data, colors = colors, labels = labels, autopct = '%0.2f%%', radius = 1.5, explode = (0, 0.15),textprops = {\"fontsize\":15})\n",
    "plt.title(\"Percentage of patients who have alcoholism and who do not have alcoholism\", y=1.2);"
   ]
  },
  {
   "cell_type": "markdown",
   "metadata": {},
   "source": [
    ">  ### Only about 3% of the patients in the dataset are alcoholics\n",
    "    > * lets look at which group kept their appointments the most"
   ]
  },
  {
   "cell_type": "code",
   "execution_count": 91,
   "metadata": {
    "scrolled": true
   },
   "outputs": [
    {
     "data": {
      "text/plain": [
       "alcoholism  no_show\n",
       "0           No         85524\n",
       "            Yes        21637\n",
       "1           No          2683\n",
       "            Yes          677\n",
       "Name: appointmentid, dtype: int64"
      ]
     },
     "execution_count": 91,
     "metadata": {},
     "output_type": "execute_result"
    }
   ],
   "source": [
    "alc_show_count = df.groupby(['alcoholism','no_show']).appointmentid.count()\n",
    "alc_show_count"
   ]
  },
  {
   "cell_type": "code",
   "execution_count": 92,
   "metadata": {},
   "outputs": [
    {
     "data": {
      "image/png": "[encoded data removed]",
      "text/plain": [
       "<Figure size 432x288 with 1 Axes>"
      ]
     },
     "metadata": {
      "needs_background": "light"
     },
     "output_type": "display_data"
    }
   ],
   "source": [
    "sns.countplot(x=\"alcoholism\", data=df, hue = 'no_show', palette = 'tab10')\n",
    "plt.title('Count of alcoholism distribution by appointment(show/no show)');"
   ]
  },
  {
   "cell_type": "markdown",
   "metadata": {},
   "source": [
    "> ### The number of alcoholic patients is much less than those without so I will look at proportions to get a true estimate of their show up habits"
   ]
  },
  {
   "cell_type": "code",
   "execution_count": 93,
   "metadata": {
    "scrolled": false
   },
   "outputs": [
    {
     "data": {
      "text/plain": [
       "alcoholism  no_show\n",
       "0           No         79.808886\n",
       "            Yes        20.191114\n",
       "1           No         79.851190\n",
       "            Yes        20.148810\n",
       "Name: appointmentid, dtype: float64"
      ]
     },
     "execution_count": 93,
     "metadata": {},
     "output_type": "execute_result"
    }
   ],
   "source": [
    "alc_prop = (alc_show_count/alc_count) * 100\n",
    "alc_prop"
   ]
  },
  {
   "cell_type": "code",
   "execution_count": 94,
   "metadata": {},
   "outputs": [
    {
     "data": {
      "image/png": "[encoded data removed]",
      "text/plain": [
       "<Figure size 432x288 with 1 Axes>"
      ]
     },
     "metadata": {
      "needs_background": "light"
     },
     "output_type": "display_data"
    }
   ],
   "source": [
    "(df['no_show'].groupby(df['alcoholism']).value_counts(normalize=True).rename('proportion').reset_index().\n",
    " pipe((sns.barplot, \"data\"), x='alcoholism', y='proportion', hue='no_show', palette = 'tab10'));"
   ]
  },
  {
   "cell_type": "markdown",
   "metadata": {},
   "source": [
    "> ### After looking at proportions we can see that even though the show up count was higher for people were not alcoholics, the percentage of patients who showed up were equal for both groups at approximately 80% each\n"
   ]
  },
  {
   "cell_type": "markdown",
   "metadata": {},
   "source": [
    "#### Handicap"
   ]
  },
  {
   "cell_type": "code",
   "execution_count": 95,
   "metadata": {
    "scrolled": false
   },
   "outputs": [
    {
     "data": {
      "text/plain": [
       "handicap\n",
       "0    108282\n",
       "1      2239\n",
       "Name: appointmentid, dtype: int64"
      ]
     },
     "execution_count": 95,
     "metadata": {},
     "output_type": "execute_result"
    }
   ],
   "source": [
    "#the number of appointments with handicap patients in the dataset\n",
    "hand_count = df.groupby('handicap').appointmentid.count()\n",
    "hand_count"
   ]
  },
  {
   "cell_type": "code",
   "execution_count": 96,
   "metadata": {
    "scrolled": true
   },
   "outputs": [
    {
     "data": {
      "image/png": "[encoded data removed]",
      "text/plain": [
       "<Figure size 432x288 with 1 Axes>"
      ]
     },
     "metadata": {},
     "output_type": "display_data"
    }
   ],
   "source": [
    "#pie chart of the number of appointments with handicap patients in the dataset\n",
    "data =hand_count\n",
    "labels = ['Able-bodied','Handicap']\n",
    "colors = sns.color_palette('tab20')[3:5]\n",
    "plt.pie(data, colors = colors, labels = labels, autopct = '%0.2f%%', radius = 1.5, explode = (0, 0.15),textprops = {\"fontsize\":15})\n",
    "plt.title(\"Percentage of patients who are able-bodied and who are handicap\", y=1.2);"
   ]
  },
  {
   "cell_type": "markdown",
   "metadata": {},
   "source": [
    ">  ### Only about 2% of the patients in the dataset are handicap\n",
    "    > * lets look at which group kept their appointments the most"
   ]
  },
  {
   "cell_type": "code",
   "execution_count": 97,
   "metadata": {
    "scrolled": true
   },
   "outputs": [
    {
     "data": {
      "image/png": "[encoded data removed]",
      "text/plain": [
       "<Figure size 432x288 with 1 Axes>"
      ]
     },
     "metadata": {
      "needs_background": "light"
     },
     "output_type": "display_data"
    }
   ],
   "source": [
    "sns.countplot(x=\"handicap\", data=df, hue = 'no_show', palette = 'tab20')\n",
    "plt.title('Count of handicap distribution by appointment(show/no show)');"
   ]
  },
  {
   "cell_type": "code",
   "execution_count": 98,
   "metadata": {
    "scrolled": false
   },
   "outputs": [
    {
     "data": {
      "text/plain": [
       "handicap  no_show\n",
       "0         No         86373\n",
       "          Yes        21909\n",
       "1         No          1834\n",
       "          Yes          405\n",
       "Name: appointmentid, dtype: int64"
      ]
     },
     "execution_count": 98,
     "metadata": {},
     "output_type": "execute_result"
    }
   ],
   "source": [
    "hand_show_count = df.groupby(['handicap','no_show']).appointmentid.count()\n",
    "hand_show_count"
   ]
  },
  {
   "cell_type": "markdown",
   "metadata": {},
   "source": [
    "> ### The number of handicap patients is much less than those patients that are able-bodied so I will look at proportions to get a true estimate of their show up habits"
   ]
  },
  {
   "cell_type": "code",
   "execution_count": 99,
   "metadata": {
    "scrolled": true
   },
   "outputs": [
    {
     "data": {
      "text/plain": [
       "handicap  no_show\n",
       "0         No         79.766720\n",
       "          Yes        20.233280\n",
       "1         No         81.911568\n",
       "          Yes        18.088432\n",
       "Name: appointmentid, dtype: float64"
      ]
     },
     "execution_count": 99,
     "metadata": {},
     "output_type": "execute_result"
    }
   ],
   "source": [
    "hand_prop = (hand_show_count/hand_count) * 100\n",
    "hand_prop"
   ]
  },
  {
   "cell_type": "code",
   "execution_count": 100,
   "metadata": {
    "scrolled": true
   },
   "outputs": [
    {
     "data": {
      "image/png": "[encoded data removed]",
      "text/plain": [
       "<Figure size 432x288 with 1 Axes>"
      ]
     },
     "metadata": {
      "needs_background": "light"
     },
     "output_type": "display_data"
    }
   ],
   "source": [
    "(df['no_show'].groupby(df['handicap']).value_counts(normalize=True).rename('proportion').reset_index().\n",
    " pipe((sns.barplot, \"data\"), x='handicap', y='proportion', hue='no_show', palette = 'tab20'));"
   ]
  },
  {
   "cell_type": "markdown",
   "metadata": {},
   "source": [
    "> ### After looking at proportions we can see that even though the show up count was higher for able-bodied patients, the percentage of handicap patients who showed up was higher by about 2%\n"
   ]
  },
  {
   "cell_type": "markdown",
   "metadata": {},
   "source": [
    "> ### The analysis shows that patients with illness and handicap show up more for their appointments than those without. I suspect this may be related to the age as most of these illnesses are often found in the older population.\n",
    "    > * I will now look at the correlation between illnesses/handicap and age  "
   ]
  },
  {
   "cell_type": "code",
   "execution_count": 102,
   "metadata": {},
   "outputs": [
    {
     "data": {
      "image/png": "[encoded data removed]",
      "text/plain": [
       "<Figure size 720x720 with 4 Axes>"
      ]
     },
     "metadata": {
      "needs_background": "light"
     },
     "output_type": "display_data"
    }
   ],
   "source": [
    "#viewing the correlation between illnesses/handicap and age \n",
    "plt.figure(figsize=(10,10))\n",
    "plt.subplot(2,2,1)\n",
    "sns.boxplot(x = 'hypertension', y = 'age', data = df, showfliers = False)\n",
    "plt.title('hypertension by age')\n",
    "plt.subplot(2,2,2)\n",
    "sns.boxplot(x = 'diabetes', y = 'age', data = df, showfliers = False)\n",
    "plt.title('diabetes by age')\n",
    "plt.subplot(2,2,3)\n",
    "sns.boxplot(x = 'alcoholism', y = 'age', data = df, showfliers = False)\n",
    "plt.title('alcoholism by age')\n",
    "plt.subplot(2,2,4)\n",
    "sns.boxplot(x = 'handicap', y = 'age', data = df, showfliers = False)\n",
    "plt.title('handicap by age');"
   ]
  },
  {
   "cell_type": "markdown",
   "metadata": {},
   "source": [
    "> ### As suspected patients with illness and handicap are older, which might explain why these group of people keep their appointments. They would take their health more seriously than those who are younger and able-bodied"
   ]
  },
  {
   "cell_type": "markdown",
   "metadata": {},
   "source": [
    "<a id='conclusions'></a>\n",
    "## Conclusions"
   ]
  },
  {
   "cell_type": "markdown",
   "metadata": {
    "collapsed": true
   },
   "source": [
    "####  How many appointments were no shows ?\n",
    "\n",
    "> * The dataset consisted of 110521 appointment records of which 22,314 or approximately **20% of appointments were missed**\n",
    "\n",
    "#### Is one gender more likely to show up for their appointment?\n",
    "\n",
    "> * There were 71,836 female patients and  38,685 male patients in the dataset.\n",
    "\n",
    "> * My analysis showed that one gender was **NOT** more likely to show up to appointments than the other as approximately 80% of patients in both gender turned up for their appointment.\n",
    "\n",
    "\n",
    "#### Does age affect showing up to appointments?\n",
    "\n",
    "> * The mean age of patients who showed up to their appointments was higher than patients who did not by 3 years. \n",
    "\n",
    "> * After binning the age column in 4 groups - 'child','adult' ,'mid_age', 'elder'- my analysis showed that **patients who were in the older bins - 'mid-age' and 'elder' had the highest percentage of show up for appointments.**\n",
    "\n",
    "> * Adults between the ages 18-37 had the highest missed appointments\n",
    "\n",
    "#### Did patients on scholarship show up for their appointments more than those not on scholarship?\n",
    "\n",
    ">* Patients who were on scholarship **DID NOT** show up for their appointments as much as patients who were not on scholarship.\n",
    "\n",
    "> * There was a 4% difference between both groups. It is also noteworthy that the mean age of patients on the scholarship program is much younger than those not on scholarship.\n",
    "\n",
    "#### Did receiving sms messages have an effect on showing up to appointments?\n",
    "\n",
    "> * Patients who received sms messages showed up **LESS** than those who did not receive messages. There is an 11% diffreence in show up proportion between the two groups.\n",
    "\n",
    "> * This could possibly be because sms reminders were sent to those who missed their appoinments already.\n",
    "\n",
    "#### On what day of the week were most appointments scheduled?\n",
    "\n",
    "> * **TUESDAY** was the day when most appointments were scheduled. \n",
    "\n",
    "#### Which day of the week had the most appointments and which day had the most show up?\n",
    "\n",
    "> * The day with the highest number of appointments was **WEDNESDAY**.This could be because as most appointments were scheduled on Tuesday, the patients were probably asked to come in the next day to see a doctor\n",
    "\n",
    "> * The day with the highest number of people showing up to appointments was **a tie between WEDNESDAY and THURSDAY**.\n",
    "\n",
    "#### Does the amount of wait time between schedule day and appointment day affect showing up to appointments?\n",
    "\n",
    "> * The amount of wait time between schedule day and appointment day **has an effect** on the likely hood of patients showing up as **the longer the wait time the higher the number of appointments that were missed.**\n",
    "\n",
    "> * Those who waited a few days had the highest percentage of show up while those who waited for longer than a week had the least amount\n",
    "\n",
    "#### Do patients who have chronic illnesses (diabetes, hypertension, alcoholism) and handicap show up to their appointments more?\n",
    "\n",
    "> * Patients who had illnesses (diabetes, hypertension & alcoholism) and handicap showed up for appointments **MORE** than those who did not.\n",
    "\n",
    "> * It is noteworthy that these patients also had higher mean ages, they probably take their health more seriously than those who are younger and able-bodied\n"
   ]
  },
  {
   "cell_type": "markdown",
   "metadata": {},
   "source": [
    "<a id='limit'></a>\n",
    "## Limitations\n",
    "\n",
    "\n"
   ]
  },
  {
   "cell_type": "markdown",
   "metadata": {},
   "source": [
    "> The data only covers records of a period just over a month (29/04/2016 - 08/06/2016) this is a very small sample, better analysis could be done if the dataset covered a year.\n",
    "\n",
    "> There is no information on whether a patient cancelled the appointment or skipped it\n",
    "\n",
    "> There wasn't much information on the SMS, only if it was recieved or not. It would have been helpful to know when it was sent and which groups were targeted.\n"
   ]
  },
  {
   "cell_type": "markdown",
   "metadata": {},
   "source": [
    "<a id='refr'></a>\n",
    "## References\n",
    "\n",
    "\n"
   ]
  },
  {
   "cell_type": "markdown",
   "metadata": {},
   "source": [
    "https://stackoverflow.com/questions/28009370/get-weekday-day-of-week-for-datetime-column-of-dataframe\n",
    "\n",
    "https://stackoverflow.com/questions/43136137/drop-a-specific-row-in-pandas\n",
    "\n",
    "https://stackoverflow.com/questions/53182464/pandas-delete-a-row-in-a-dataframe-based-on-a-value\n",
    "\n",
    "https://stackoverflow.com/questions/23307301/replacing-column-values-in-a-pandas-dataframe\n",
    "\n",
    "https://stackoverflow.com/questions/41405180/python-pandas-filter-one-column-and-get-the-average-of-another-column\n",
    "\n",
    "https://stackoverflow.com/questions/46623583/seaborn-countplot-order-categories-by-count\n",
    "\n",
    "https://pandas.pydata.org/Pandas_Cheat_Sheet.pdf\n",
    "\n",
    "https://www.kaggle.com/joniarroba/noshowappointments\n",
    "\n",
    "https://seaborn.pydata.org/generated/seaborn.countplot.html\n",
    "\n",
    "https://www.geeksforgeeks.org/grouped-boxplots-in-python-with-seaborn/"
   ]
  }
 ],
 "metadata": {
  "kernelspec": {
   "display_name": "Python 3 (ipykernel)",
   "language": "python",
   "name": "python3"
  },
  "language_info": {
   "codemirror_mode": {
    "name": "ipython",
    "version": 3
   },
   "file_extension": ".py",
   "mimetype": "text/x-python",
   "name": "python",
   "nbconvert_exporter": "python",
   "pygments_lexer": "ipython3",
   "version": "3.9.12"
  }
 },
 "nbformat": 4,
 "nbformat_minor": 2
}
